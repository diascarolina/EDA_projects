{
 "cells": [
  {
   "cell_type": "markdown",
   "id": "compact-airline",
   "metadata": {
    "papermill": {
     "duration": 0.01962,
     "end_time": "2021-04-24T03:49:09.742860",
     "exception": false,
     "start_time": "2021-04-24T03:49:09.723240",
     "status": "completed"
    },
    "tags": []
   },
   "source": [
    "# Top Games on Google Play Store - An EDA"
   ]
  },
  {
   "cell_type": "markdown",
   "id": "secret-provider",
   "metadata": {
    "papermill": {
     "duration": 0.017906,
     "end_time": "2021-04-24T03:49:09.779070",
     "exception": false,
     "start_time": "2021-04-24T03:49:09.761164",
     "status": "completed"
    },
    "tags": []
   },
   "source": [
    "From the 'android-games.csv' dataset from [Top Games of Google Play Store](https://www.kaggle.com/dhruvildave/top-play-store-games), we'll answer the following questions using an Exploratory Data Analysis approach:\n",
    "\n",
    "* What is the most expensive game on this list?\n",
    "* What is the final star rating for each game?\n",
    "* What is the average star rating for each category?"
   ]
  },
  {
   "cell_type": "markdown",
   "id": "entitled-footage",
   "metadata": {
    "papermill": {
     "duration": 0.018727,
     "end_time": "2021-04-24T03:49:09.816123",
     "exception": false,
     "start_time": "2021-04-24T03:49:09.797396",
     "status": "completed"
    },
    "tags": []
   },
   "source": [
    "### Import the Libraries Used"
   ]
  },
  {
   "cell_type": "code",
   "execution_count": 1,
   "id": "textile-ground",
   "metadata": {
    "execution": {
     "iopub.execute_input": "2021-04-24T03:49:09.865725Z",
     "iopub.status.busy": "2021-04-24T03:49:09.864885Z",
     "iopub.status.idle": "2021-04-24T03:49:09.868279Z",
     "shell.execute_reply": "2021-04-24T03:49:09.867656Z"
    },
    "papermill": {
     "duration": 0.033868,
     "end_time": "2021-04-24T03:49:09.868441",
     "exception": false,
     "start_time": "2021-04-24T03:49:09.834573",
     "status": "completed"
    },
    "tags": []
   },
   "outputs": [],
   "source": [
    "import numpy as np\n",
    "import pandas as pd\n",
    "import matplotlib.pyplot as plt"
   ]
  },
  {
   "cell_type": "markdown",
   "id": "willing-contest",
   "metadata": {
    "papermill": {
     "duration": 0.017964,
     "end_time": "2021-04-24T03:49:09.905307",
     "exception": false,
     "start_time": "2021-04-24T03:49:09.887343",
     "status": "completed"
    },
    "tags": []
   },
   "source": [
    "### Load and Read Data"
   ]
  },
  {
   "cell_type": "code",
   "execution_count": 2,
   "id": "corrected-mistake",
   "metadata": {
    "execution": {
     "iopub.execute_input": "2021-04-24T03:49:09.947155Z",
     "iopub.status.busy": "2021-04-24T03:49:09.946447Z",
     "iopub.status.idle": "2021-04-24T03:49:09.973096Z",
     "shell.execute_reply": "2021-04-24T03:49:09.972510Z"
    },
    "papermill": {
     "duration": 0.049638,
     "end_time": "2021-04-24T03:49:09.973239",
     "exception": false,
     "start_time": "2021-04-24T03:49:09.923601",
     "status": "completed"
    },
    "tags": []
   },
   "outputs": [],
   "source": [
    "data_path = '/kaggle/input/top-play-store-games/android-games.csv'\n",
    "raw_data = pd.read_csv(data_path)"
   ]
  },
  {
   "cell_type": "markdown",
   "id": "enormous-latvia",
   "metadata": {
    "papermill": {
     "duration": 0.017987,
     "end_time": "2021-04-24T03:49:10.009770",
     "exception": false,
     "start_time": "2021-04-24T03:49:09.991783",
     "status": "completed"
    },
    "tags": []
   },
   "source": [
    "### Basic Data Information"
   ]
  },
  {
   "cell_type": "code",
   "execution_count": 3,
   "id": "caring-joining",
   "metadata": {
    "execution": {
     "iopub.execute_input": "2021-04-24T03:49:10.057840Z",
     "iopub.status.busy": "2021-04-24T03:49:10.057027Z",
     "iopub.status.idle": "2021-04-24T03:49:10.089357Z",
     "shell.execute_reply": "2021-04-24T03:49:10.088781Z"
    },
    "papermill": {
     "duration": 0.061424,
     "end_time": "2021-04-24T03:49:10.089504",
     "exception": false,
     "start_time": "2021-04-24T03:49:10.028080",
     "status": "completed"
    },
    "tags": []
   },
   "outputs": [
    {
     "data": {
      "text/html": [
       "<div>\n",
       "<style scoped>\n",
       "    .dataframe tbody tr th:only-of-type {\n",
       "        vertical-align: middle;\n",
       "    }\n",
       "\n",
       "    .dataframe tbody tr th {\n",
       "        vertical-align: top;\n",
       "    }\n",
       "\n",
       "    .dataframe thead th {\n",
       "        text-align: right;\n",
       "    }\n",
       "</style>\n",
       "<table border=\"1\" class=\"dataframe\">\n",
       "  <thead>\n",
       "    <tr style=\"text-align: right;\">\n",
       "      <th></th>\n",
       "      <th>rank</th>\n",
       "      <th>title</th>\n",
       "      <th>total ratings</th>\n",
       "      <th>installs</th>\n",
       "      <th>average rating</th>\n",
       "      <th>growth (30 days)</th>\n",
       "      <th>growth (60 days)</th>\n",
       "      <th>price</th>\n",
       "      <th>category</th>\n",
       "      <th>5 star ratings</th>\n",
       "      <th>4 star ratings</th>\n",
       "      <th>3 star ratings</th>\n",
       "      <th>2 star ratings</th>\n",
       "      <th>1 star ratings</th>\n",
       "      <th>paid</th>\n",
       "    </tr>\n",
       "  </thead>\n",
       "  <tbody>\n",
       "    <tr>\n",
       "      <th>0</th>\n",
       "      <td>1</td>\n",
       "      <td>Garena Free Fire - The Cobra</td>\n",
       "      <td>80678661</td>\n",
       "      <td>500.0 M</td>\n",
       "      <td>4.33</td>\n",
       "      <td>2.9</td>\n",
       "      <td>7.9</td>\n",
       "      <td>0.0</td>\n",
       "      <td>GAME ACTION</td>\n",
       "      <td>61935712</td>\n",
       "      <td>4478738</td>\n",
       "      <td>2795172</td>\n",
       "      <td>1814999</td>\n",
       "      <td>9654037</td>\n",
       "      <td>False</td>\n",
       "    </tr>\n",
       "    <tr>\n",
       "      <th>1</th>\n",
       "      <td>2</td>\n",
       "      <td>PUBG MOBILE: Graffiti Prank</td>\n",
       "      <td>35971961</td>\n",
       "      <td>100.0 M</td>\n",
       "      <td>4.24</td>\n",
       "      <td>2.0</td>\n",
       "      <td>3.1</td>\n",
       "      <td>0.0</td>\n",
       "      <td>GAME ACTION</td>\n",
       "      <td>26670566</td>\n",
       "      <td>2109631</td>\n",
       "      <td>1352610</td>\n",
       "      <td>893674</td>\n",
       "      <td>4945478</td>\n",
       "      <td>False</td>\n",
       "    </tr>\n",
       "    <tr>\n",
       "      <th>2</th>\n",
       "      <td>3</td>\n",
       "      <td>Mobile Legends: Bang Bang</td>\n",
       "      <td>25836869</td>\n",
       "      <td>100.0 M</td>\n",
       "      <td>4.08</td>\n",
       "      <td>1.6</td>\n",
       "      <td>3.3</td>\n",
       "      <td>0.0</td>\n",
       "      <td>GAME ACTION</td>\n",
       "      <td>17850942</td>\n",
       "      <td>1796761</td>\n",
       "      <td>1066095</td>\n",
       "      <td>725429</td>\n",
       "      <td>4397640</td>\n",
       "      <td>False</td>\n",
       "    </tr>\n",
       "    <tr>\n",
       "      <th>3</th>\n",
       "      <td>4</td>\n",
       "      <td>Brawl Stars</td>\n",
       "      <td>17181659</td>\n",
       "      <td>100.0 M</td>\n",
       "      <td>4.27</td>\n",
       "      <td>4.1</td>\n",
       "      <td>6.6</td>\n",
       "      <td>0.0</td>\n",
       "      <td>GAME ACTION</td>\n",
       "      <td>12493668</td>\n",
       "      <td>1474319</td>\n",
       "      <td>741410</td>\n",
       "      <td>383478</td>\n",
       "      <td>2088781</td>\n",
       "      <td>False</td>\n",
       "    </tr>\n",
       "    <tr>\n",
       "      <th>4</th>\n",
       "      <td>5</td>\n",
       "      <td>Sniper 3D: Fun Free Online FPS Shooting Game</td>\n",
       "      <td>14237554</td>\n",
       "      <td>100.0 M</td>\n",
       "      <td>4.33</td>\n",
       "      <td>0.8</td>\n",
       "      <td>1.8</td>\n",
       "      <td>0.0</td>\n",
       "      <td>GAME ACTION</td>\n",
       "      <td>9657878</td>\n",
       "      <td>2124544</td>\n",
       "      <td>1034025</td>\n",
       "      <td>375159</td>\n",
       "      <td>1045945</td>\n",
       "      <td>False</td>\n",
       "    </tr>\n",
       "  </tbody>\n",
       "</table>\n",
       "</div>"
      ],
      "text/plain": [
       "   rank                                         title  total ratings installs  \\\n",
       "0     1                  Garena Free Fire - The Cobra       80678661  500.0 M   \n",
       "1     2                   PUBG MOBILE: Graffiti Prank       35971961  100.0 M   \n",
       "2     3                     Mobile Legends: Bang Bang       25836869  100.0 M   \n",
       "3     4                                   Brawl Stars       17181659  100.0 M   \n",
       "4     5  Sniper 3D: Fun Free Online FPS Shooting Game       14237554  100.0 M   \n",
       "\n",
       "   average rating  growth (30 days)  growth (60 days)  price     category  \\\n",
       "0            4.33               2.9               7.9    0.0  GAME ACTION   \n",
       "1            4.24               2.0               3.1    0.0  GAME ACTION   \n",
       "2            4.08               1.6               3.3    0.0  GAME ACTION   \n",
       "3            4.27               4.1               6.6    0.0  GAME ACTION   \n",
       "4            4.33               0.8               1.8    0.0  GAME ACTION   \n",
       "\n",
       "   5 star ratings  4 star ratings  3 star ratings  2 star ratings  \\\n",
       "0        61935712         4478738         2795172         1814999   \n",
       "1        26670566         2109631         1352610          893674   \n",
       "2        17850942         1796761         1066095          725429   \n",
       "3        12493668         1474319          741410          383478   \n",
       "4         9657878         2124544         1034025          375159   \n",
       "\n",
       "   1 star ratings   paid  \n",
       "0         9654037  False  \n",
       "1         4945478  False  \n",
       "2         4397640  False  \n",
       "3         2088781  False  \n",
       "4         1045945  False  "
      ]
     },
     "execution_count": 3,
     "metadata": {},
     "output_type": "execute_result"
    }
   ],
   "source": [
    "raw_data.head()"
   ]
  },
  {
   "cell_type": "markdown",
   "id": "editorial-sunglasses",
   "metadata": {
    "papermill": {
     "duration": 0.01879,
     "end_time": "2021-04-24T03:49:10.128201",
     "exception": false,
     "start_time": "2021-04-24T03:49:10.109411",
     "status": "completed"
    },
    "tags": []
   },
   "source": [
    "We then have the following features:\n",
    "* __rank__: Rank in a particular category\n",
    "* __title__: Game title\n",
    "* __total ratings__: Total number of ratings\n",
    "* __installs__: Approximate install milestone\n",
    "* __average rating__: Average rating out of 5\n",
    "* __growth (30 days)__: Percent growth in 30 days\n",
    "* __growth (60 days)__: Percent growth in 60 days\n",
    "* __price__: Price in dollars\n",
    "* __category__: Game category\n",
    "* __5 star ratings__: Number of 5 star ratings\n",
    "* __4 star ratings__: Number of 4 star ratings\n",
    "* __3 star ratings__: Number of 3 star ratings\n",
    "* __2 star ratings__: Number of 2 star ratings\n",
    "* __1 star ratings__: Number of 1 star ratings\n",
    "* __paid__: Whether the game is paid or not"
   ]
  },
  {
   "cell_type": "code",
   "execution_count": 4,
   "id": "burning-verse",
   "metadata": {
    "execution": {
     "iopub.execute_input": "2021-04-24T03:49:10.190359Z",
     "iopub.status.busy": "2021-04-24T03:49:10.187627Z",
     "iopub.status.idle": "2021-04-24T03:49:10.195365Z",
     "shell.execute_reply": "2021-04-24T03:49:10.194560Z"
    },
    "papermill": {
     "duration": 0.047882,
     "end_time": "2021-04-24T03:49:10.195571",
     "exception": false,
     "start_time": "2021-04-24T03:49:10.147689",
     "status": "completed"
    },
    "tags": []
   },
   "outputs": [
    {
     "name": "stdout",
     "output_type": "stream",
     "text": [
      "<class 'pandas.core.frame.DataFrame'>\n",
      "RangeIndex: 1730 entries, 0 to 1729\n",
      "Data columns (total 15 columns):\n",
      " #   Column            Non-Null Count  Dtype  \n",
      "---  ------            --------------  -----  \n",
      " 0   rank              1730 non-null   int64  \n",
      " 1   title             1730 non-null   object \n",
      " 2   total ratings     1730 non-null   int64  \n",
      " 3   installs          1730 non-null   object \n",
      " 4   average rating    1730 non-null   float64\n",
      " 5   growth (30 days)  1730 non-null   float64\n",
      " 6   growth (60 days)  1730 non-null   float64\n",
      " 7   price             1730 non-null   float64\n",
      " 8   category          1730 non-null   object \n",
      " 9   5 star ratings    1730 non-null   int64  \n",
      " 10  4 star ratings    1730 non-null   int64  \n",
      " 11  3 star ratings    1730 non-null   int64  \n",
      " 12  2 star ratings    1730 non-null   int64  \n",
      " 13  1 star ratings    1730 non-null   int64  \n",
      " 14  paid              1730 non-null   bool   \n",
      "dtypes: bool(1), float64(4), int64(7), object(3)\n",
      "memory usage: 191.0+ KB\n"
     ]
    }
   ],
   "source": [
    "raw_data.info()"
   ]
  },
  {
   "cell_type": "code",
   "execution_count": 5,
   "id": "furnished-exhibit",
   "metadata": {
    "execution": {
     "iopub.execute_input": "2021-04-24T03:49:10.243827Z",
     "iopub.status.busy": "2021-04-24T03:49:10.243120Z",
     "iopub.status.idle": "2021-04-24T03:49:10.248801Z",
     "shell.execute_reply": "2021-04-24T03:49:10.249369Z"
    },
    "papermill": {
     "duration": 0.031413,
     "end_time": "2021-04-24T03:49:10.249530",
     "exception": false,
     "start_time": "2021-04-24T03:49:10.218117",
     "status": "completed"
    },
    "tags": []
   },
   "outputs": [
    {
     "data": {
      "text/plain": [
       "rank                0\n",
       "title               0\n",
       "total ratings       0\n",
       "installs            0\n",
       "average rating      0\n",
       "growth (30 days)    0\n",
       "growth (60 days)    0\n",
       "price               0\n",
       "category            0\n",
       "5 star ratings      0\n",
       "4 star ratings      0\n",
       "3 star ratings      0\n",
       "2 star ratings      0\n",
       "1 star ratings      0\n",
       "paid                0\n",
       "dtype: int64"
      ]
     },
     "execution_count": 5,
     "metadata": {},
     "output_type": "execute_result"
    }
   ],
   "source": [
    "raw_data.isnull().sum()"
   ]
  },
  {
   "cell_type": "markdown",
   "id": "exterior-configuration",
   "metadata": {
    "papermill": {
     "duration": 0.019781,
     "end_time": "2021-04-24T03:49:10.289595",
     "exception": false,
     "start_time": "2021-04-24T03:49:10.269814",
     "status": "completed"
    },
    "tags": []
   },
   "source": [
    "There is no null data and all the columns are filled on every row. This is expected since every game on Play Store must have all these informations and this is a Kaggle dataset."
   ]
  },
  {
   "cell_type": "code",
   "execution_count": 6,
   "id": "documentary-development",
   "metadata": {
    "execution": {
     "iopub.execute_input": "2021-04-24T03:49:10.332535Z",
     "iopub.status.busy": "2021-04-24T03:49:10.331941Z",
     "iopub.status.idle": "2021-04-24T03:49:10.387341Z",
     "shell.execute_reply": "2021-04-24T03:49:10.386596Z"
    },
    "papermill": {
     "duration": 0.077892,
     "end_time": "2021-04-24T03:49:10.387492",
     "exception": false,
     "start_time": "2021-04-24T03:49:10.309600",
     "status": "completed"
    },
    "tags": []
   },
   "outputs": [
    {
     "data": {
      "text/html": [
       "<div>\n",
       "<style scoped>\n",
       "    .dataframe tbody tr th:only-of-type {\n",
       "        vertical-align: middle;\n",
       "    }\n",
       "\n",
       "    .dataframe tbody tr th {\n",
       "        vertical-align: top;\n",
       "    }\n",
       "\n",
       "    .dataframe thead th {\n",
       "        text-align: right;\n",
       "    }\n",
       "</style>\n",
       "<table border=\"1\" class=\"dataframe\">\n",
       "  <thead>\n",
       "    <tr style=\"text-align: right;\">\n",
       "      <th></th>\n",
       "      <th>rank</th>\n",
       "      <th>total ratings</th>\n",
       "      <th>average rating</th>\n",
       "      <th>growth (30 days)</th>\n",
       "      <th>growth (60 days)</th>\n",
       "      <th>price</th>\n",
       "      <th>5 star ratings</th>\n",
       "      <th>4 star ratings</th>\n",
       "      <th>3 star ratings</th>\n",
       "      <th>2 star ratings</th>\n",
       "      <th>1 star ratings</th>\n",
       "    </tr>\n",
       "  </thead>\n",
       "  <tbody>\n",
       "    <tr>\n",
       "      <th>count</th>\n",
       "      <td>1730.000000</td>\n",
       "      <td>1.730000e+03</td>\n",
       "      <td>1730.000000</td>\n",
       "      <td>1730.000000</td>\n",
       "      <td>1730.000000</td>\n",
       "      <td>1730.000000</td>\n",
       "      <td>1.730000e+03</td>\n",
       "      <td>1.730000e+03</td>\n",
       "      <td>1.730000e+03</td>\n",
       "      <td>1.730000e+03</td>\n",
       "      <td>1.730000e+03</td>\n",
       "    </tr>\n",
       "    <tr>\n",
       "      <th>mean</th>\n",
       "      <td>50.475723</td>\n",
       "      <td>1.101182e+06</td>\n",
       "      <td>4.313410</td>\n",
       "      <td>193.167341</td>\n",
       "      <td>3.969249</td>\n",
       "      <td>0.012965</td>\n",
       "      <td>7.883837e+05</td>\n",
       "      <td>1.216466e+05</td>\n",
       "      <td>5.954986e+04</td>\n",
       "      <td>2.796247e+04</td>\n",
       "      <td>1.036364e+05</td>\n",
       "    </tr>\n",
       "    <tr>\n",
       "      <th>std</th>\n",
       "      <td>28.941630</td>\n",
       "      <td>3.311738e+06</td>\n",
       "      <td>0.253545</td>\n",
       "      <td>4775.617650</td>\n",
       "      <td>18.912904</td>\n",
       "      <td>0.243492</td>\n",
       "      <td>2.483061e+06</td>\n",
       "      <td>2.955701e+05</td>\n",
       "      <td>1.447400e+05</td>\n",
       "      <td>7.676625e+04</td>\n",
       "      <td>3.589869e+05</td>\n",
       "    </tr>\n",
       "    <tr>\n",
       "      <th>min</th>\n",
       "      <td>1.000000</td>\n",
       "      <td>3.823800e+04</td>\n",
       "      <td>3.090000</td>\n",
       "      <td>0.000000</td>\n",
       "      <td>0.000000</td>\n",
       "      <td>0.000000</td>\n",
       "      <td>2.189800e+04</td>\n",
       "      <td>2.441000e+03</td>\n",
       "      <td>7.070000e+02</td>\n",
       "      <td>2.880000e+02</td>\n",
       "      <td>5.270000e+02</td>\n",
       "    </tr>\n",
       "    <tr>\n",
       "      <th>25%</th>\n",
       "      <td>25.000000</td>\n",
       "      <td>1.879988e+05</td>\n",
       "      <td>4.180000</td>\n",
       "      <td>0.100000</td>\n",
       "      <td>0.300000</td>\n",
       "      <td>0.000000</td>\n",
       "      <td>1.358290e+05</td>\n",
       "      <td>2.180200e+04</td>\n",
       "      <td>1.027775e+04</td>\n",
       "      <td>4.529500e+03</td>\n",
       "      <td>1.356075e+04</td>\n",
       "    </tr>\n",
       "    <tr>\n",
       "      <th>50%</th>\n",
       "      <td>51.000000</td>\n",
       "      <td>4.576750e+05</td>\n",
       "      <td>4.330000</td>\n",
       "      <td>0.500000</td>\n",
       "      <td>1.000000</td>\n",
       "      <td>0.000000</td>\n",
       "      <td>3.109435e+05</td>\n",
       "      <td>5.464350e+04</td>\n",
       "      <td>2.665850e+04</td>\n",
       "      <td>1.133050e+04</td>\n",
       "      <td>3.569400e+04</td>\n",
       "    </tr>\n",
       "    <tr>\n",
       "      <th>75%</th>\n",
       "      <td>75.750000</td>\n",
       "      <td>9.443342e+05</td>\n",
       "      <td>4.490000</td>\n",
       "      <td>1.600000</td>\n",
       "      <td>3.300000</td>\n",
       "      <td>0.000000</td>\n",
       "      <td>6.511310e+05</td>\n",
       "      <td>1.095648e+05</td>\n",
       "      <td>5.581750e+04</td>\n",
       "      <td>2.526650e+04</td>\n",
       "      <td>8.632625e+04</td>\n",
       "    </tr>\n",
       "    <tr>\n",
       "      <th>max</th>\n",
       "      <td>100.000000</td>\n",
       "      <td>8.067866e+07</td>\n",
       "      <td>4.910000</td>\n",
       "      <td>140394.400000</td>\n",
       "      <td>605.100000</td>\n",
       "      <td>7.490000</td>\n",
       "      <td>6.193571e+07</td>\n",
       "      <td>5.397273e+06</td>\n",
       "      <td>2.795172e+06</td>\n",
       "      <td>1.814999e+06</td>\n",
       "      <td>9.654037e+06</td>\n",
       "    </tr>\n",
       "  </tbody>\n",
       "</table>\n",
       "</div>"
      ],
      "text/plain": [
       "              rank  total ratings  average rating  growth (30 days)  \\\n",
       "count  1730.000000   1.730000e+03     1730.000000       1730.000000   \n",
       "mean     50.475723   1.101182e+06        4.313410        193.167341   \n",
       "std      28.941630   3.311738e+06        0.253545       4775.617650   \n",
       "min       1.000000   3.823800e+04        3.090000          0.000000   \n",
       "25%      25.000000   1.879988e+05        4.180000          0.100000   \n",
       "50%      51.000000   4.576750e+05        4.330000          0.500000   \n",
       "75%      75.750000   9.443342e+05        4.490000          1.600000   \n",
       "max     100.000000   8.067866e+07        4.910000     140394.400000   \n",
       "\n",
       "       growth (60 days)        price  5 star ratings  4 star ratings  \\\n",
       "count       1730.000000  1730.000000    1.730000e+03    1.730000e+03   \n",
       "mean           3.969249     0.012965    7.883837e+05    1.216466e+05   \n",
       "std           18.912904     0.243492    2.483061e+06    2.955701e+05   \n",
       "min            0.000000     0.000000    2.189800e+04    2.441000e+03   \n",
       "25%            0.300000     0.000000    1.358290e+05    2.180200e+04   \n",
       "50%            1.000000     0.000000    3.109435e+05    5.464350e+04   \n",
       "75%            3.300000     0.000000    6.511310e+05    1.095648e+05   \n",
       "max          605.100000     7.490000    6.193571e+07    5.397273e+06   \n",
       "\n",
       "       3 star ratings  2 star ratings  1 star ratings  \n",
       "count    1.730000e+03    1.730000e+03    1.730000e+03  \n",
       "mean     5.954986e+04    2.796247e+04    1.036364e+05  \n",
       "std      1.447400e+05    7.676625e+04    3.589869e+05  \n",
       "min      7.070000e+02    2.880000e+02    5.270000e+02  \n",
       "25%      1.027775e+04    4.529500e+03    1.356075e+04  \n",
       "50%      2.665850e+04    1.133050e+04    3.569400e+04  \n",
       "75%      5.581750e+04    2.526650e+04    8.632625e+04  \n",
       "max      2.795172e+06    1.814999e+06    9.654037e+06  "
      ]
     },
     "execution_count": 6,
     "metadata": {},
     "output_type": "execute_result"
    }
   ],
   "source": [
    "raw_data.describe()"
   ]
  },
  {
   "cell_type": "markdown",
   "id": "twenty-salon",
   "metadata": {
    "papermill": {
     "duration": 0.020544,
     "end_time": "2021-04-24T03:49:10.431323",
     "exception": false,
     "start_time": "2021-04-24T03:49:10.410779",
     "status": "completed"
    },
    "tags": []
   },
   "source": [
    "From a preliminary analysis, we can see that more than 75% of the top games are free (by checking when the __price__ is 0.00). In fact, let's check the total:"
   ]
  },
  {
   "cell_type": "code",
   "execution_count": 7,
   "id": "careful-diversity",
   "metadata": {
    "execution": {
     "iopub.execute_input": "2021-04-24T03:49:10.478746Z",
     "iopub.status.busy": "2021-04-24T03:49:10.478120Z",
     "iopub.status.idle": "2021-04-24T03:49:10.499121Z",
     "shell.execute_reply": "2021-04-24T03:49:10.498172Z"
    },
    "papermill": {
     "duration": 0.047155,
     "end_time": "2021-04-24T03:49:10.499287",
     "exception": false,
     "start_time": "2021-04-24T03:49:10.452132",
     "status": "completed"
    },
    "tags": []
   },
   "outputs": [
    {
     "data": {
      "text/plain": [
       "False    99.595376\n",
       "True      0.404624\n",
       "Name: paid, dtype: float64"
      ]
     },
     "execution_count": 7,
     "metadata": {},
     "output_type": "execute_result"
    }
   ],
   "source": [
    "raw_data['paid'].value_counts(normalize = True) * 100"
   ]
  },
  {
   "cell_type": "markdown",
   "id": "acute-packet",
   "metadata": {
    "papermill": {
     "duration": 0.020916,
     "end_time": "2021-04-24T03:49:10.543932",
     "exception": false,
     "start_time": "2021-04-24T03:49:10.523016",
     "status": "completed"
    },
    "tags": []
   },
   "source": [
    "So only 0.40% of the games in this list are paid games (that acounts for only 7 games)."
   ]
  },
  {
   "cell_type": "markdown",
   "id": "boolean-flesh",
   "metadata": {
    "papermill": {
     "duration": 0.02109,
     "end_time": "2021-04-24T03:49:10.586315",
     "exception": false,
     "start_time": "2021-04-24T03:49:10.565225",
     "status": "completed"
    },
    "tags": []
   },
   "source": [
    "To find the paid games on this list we use:"
   ]
  },
  {
   "cell_type": "code",
   "execution_count": 8,
   "id": "turned-principal",
   "metadata": {
    "execution": {
     "iopub.execute_input": "2021-04-24T03:49:10.655237Z",
     "iopub.status.busy": "2021-04-24T03:49:10.654470Z",
     "iopub.status.idle": "2021-04-24T03:49:10.658573Z",
     "shell.execute_reply": "2021-04-24T03:49:10.657959Z"
    },
    "papermill": {
     "duration": 0.051238,
     "end_time": "2021-04-24T03:49:10.658740",
     "exception": false,
     "start_time": "2021-04-24T03:49:10.607502",
     "status": "completed"
    },
    "tags": []
   },
   "outputs": [
    {
     "data": {
      "text/html": [
       "<div>\n",
       "<style scoped>\n",
       "    .dataframe tbody tr th:only-of-type {\n",
       "        vertical-align: middle;\n",
       "    }\n",
       "\n",
       "    .dataframe tbody tr th {\n",
       "        vertical-align: top;\n",
       "    }\n",
       "\n",
       "    .dataframe thead th {\n",
       "        text-align: right;\n",
       "    }\n",
       "</style>\n",
       "<table border=\"1\" class=\"dataframe\">\n",
       "  <thead>\n",
       "    <tr style=\"text-align: right;\">\n",
       "      <th></th>\n",
       "      <th>rank</th>\n",
       "      <th>title</th>\n",
       "      <th>total ratings</th>\n",
       "      <th>installs</th>\n",
       "      <th>average rating</th>\n",
       "      <th>growth (30 days)</th>\n",
       "      <th>growth (60 days)</th>\n",
       "      <th>price</th>\n",
       "      <th>category</th>\n",
       "      <th>5 star ratings</th>\n",
       "      <th>4 star ratings</th>\n",
       "      <th>3 star ratings</th>\n",
       "      <th>2 star ratings</th>\n",
       "      <th>1 star ratings</th>\n",
       "      <th>paid</th>\n",
       "    </tr>\n",
       "  </thead>\n",
       "  <tbody>\n",
       "    <tr>\n",
       "      <th>211</th>\n",
       "      <td>12</td>\n",
       "      <td>Minecraft</td>\n",
       "      <td>3999232</td>\n",
       "      <td>10.0 M</td>\n",
       "      <td>4.54</td>\n",
       "      <td>1.4</td>\n",
       "      <td>2.8</td>\n",
       "      <td>7.49</td>\n",
       "      <td>GAME ARCADE</td>\n",
       "      <td>3214765</td>\n",
       "      <td>312995</td>\n",
       "      <td>138682</td>\n",
       "      <td>70661</td>\n",
       "      <td>262126</td>\n",
       "      <td>True</td>\n",
       "    </tr>\n",
       "    <tr>\n",
       "      <th>153</th>\n",
       "      <td>54</td>\n",
       "      <td>Terraria</td>\n",
       "      <td>317546</td>\n",
       "      <td>1.0 M</td>\n",
       "      <td>4.65</td>\n",
       "      <td>1.0</td>\n",
       "      <td>2.3</td>\n",
       "      <td>4.99</td>\n",
       "      <td>GAME ADVENTURE</td>\n",
       "      <td>264563</td>\n",
       "      <td>24837</td>\n",
       "      <td>10184</td>\n",
       "      <td>4387</td>\n",
       "      <td>13572</td>\n",
       "      <td>True</td>\n",
       "    </tr>\n",
       "    <tr>\n",
       "      <th>477</th>\n",
       "      <td>64</td>\n",
       "      <td>Reigns</td>\n",
       "      <td>146504</td>\n",
       "      <td>500.0 k</td>\n",
       "      <td>4.58</td>\n",
       "      <td>0.1</td>\n",
       "      <td>0.2</td>\n",
       "      <td>2.99</td>\n",
       "      <td>GAME CARD</td>\n",
       "      <td>108627</td>\n",
       "      <td>25330</td>\n",
       "      <td>5696</td>\n",
       "      <td>2743</td>\n",
       "      <td>4105</td>\n",
       "      <td>True</td>\n",
       "    </tr>\n",
       "    <tr>\n",
       "      <th>261</th>\n",
       "      <td>62</td>\n",
       "      <td>Geometry Dash</td>\n",
       "      <td>767518</td>\n",
       "      <td>1.0 M</td>\n",
       "      <td>4.62</td>\n",
       "      <td>0.6</td>\n",
       "      <td>1.2</td>\n",
       "      <td>1.99</td>\n",
       "      <td>GAME ARCADE</td>\n",
       "      <td>623950</td>\n",
       "      <td>73997</td>\n",
       "      <td>25169</td>\n",
       "      <td>9705</td>\n",
       "      <td>34694</td>\n",
       "      <td>True</td>\n",
       "    </tr>\n",
       "    <tr>\n",
       "      <th>869</th>\n",
       "      <td>46</td>\n",
       "      <td>Cytus II</td>\n",
       "      <td>109687</td>\n",
       "      <td>1.0 M</td>\n",
       "      <td>4.59</td>\n",
       "      <td>1.0</td>\n",
       "      <td>2.2</td>\n",
       "      <td>1.99</td>\n",
       "      <td>GAME MUSIC</td>\n",
       "      <td>86420</td>\n",
       "      <td>12246</td>\n",
       "      <td>4534</td>\n",
       "      <td>1999</td>\n",
       "      <td>4484</td>\n",
       "      <td>True</td>\n",
       "    </tr>\n",
       "    <tr>\n",
       "      <th>1588</th>\n",
       "      <td>65</td>\n",
       "      <td>Trivia Crack (No Ads)</td>\n",
       "      <td>74594</td>\n",
       "      <td>500.0 k</td>\n",
       "      <td>4.58</td>\n",
       "      <td>0.9</td>\n",
       "      <td>2.2</td>\n",
       "      <td>1.99</td>\n",
       "      <td>GAME TRIVIA</td>\n",
       "      <td>55411</td>\n",
       "      <td>12625</td>\n",
       "      <td>3123</td>\n",
       "      <td>1117</td>\n",
       "      <td>2315</td>\n",
       "      <td>True</td>\n",
       "    </tr>\n",
       "    <tr>\n",
       "      <th>91</th>\n",
       "      <td>92</td>\n",
       "      <td>Hitman Sniper</td>\n",
       "      <td>848831</td>\n",
       "      <td>10.0 M</td>\n",
       "      <td>4.41</td>\n",
       "      <td>0.3</td>\n",
       "      <td>0.8</td>\n",
       "      <td>0.99</td>\n",
       "      <td>GAME ACTION</td>\n",
       "      <td>607502</td>\n",
       "      <td>115334</td>\n",
       "      <td>48040</td>\n",
       "      <td>19224</td>\n",
       "      <td>58729</td>\n",
       "      <td>True</td>\n",
       "    </tr>\n",
       "  </tbody>\n",
       "</table>\n",
       "</div>"
      ],
      "text/plain": [
       "      rank                  title  total ratings installs  average rating  \\\n",
       "211     12              Minecraft        3999232   10.0 M            4.54   \n",
       "153     54               Terraria         317546    1.0 M            4.65   \n",
       "477     64                 Reigns         146504  500.0 k            4.58   \n",
       "261     62          Geometry Dash         767518    1.0 M            4.62   \n",
       "869     46               Cytus II         109687    1.0 M            4.59   \n",
       "1588    65  Trivia Crack (No Ads)          74594  500.0 k            4.58   \n",
       "91      92          Hitman Sniper         848831   10.0 M            4.41   \n",
       "\n",
       "      growth (30 days)  growth (60 days)  price        category  \\\n",
       "211                1.4               2.8   7.49     GAME ARCADE   \n",
       "153                1.0               2.3   4.99  GAME ADVENTURE   \n",
       "477                0.1               0.2   2.99       GAME CARD   \n",
       "261                0.6               1.2   1.99     GAME ARCADE   \n",
       "869                1.0               2.2   1.99      GAME MUSIC   \n",
       "1588               0.9               2.2   1.99     GAME TRIVIA   \n",
       "91                 0.3               0.8   0.99     GAME ACTION   \n",
       "\n",
       "      5 star ratings  4 star ratings  3 star ratings  2 star ratings  \\\n",
       "211          3214765          312995          138682           70661   \n",
       "153           264563           24837           10184            4387   \n",
       "477           108627           25330            5696            2743   \n",
       "261           623950           73997           25169            9705   \n",
       "869            86420           12246            4534            1999   \n",
       "1588           55411           12625            3123            1117   \n",
       "91            607502          115334           48040           19224   \n",
       "\n",
       "      1 star ratings  paid  \n",
       "211           262126  True  \n",
       "153            13572  True  \n",
       "477             4105  True  \n",
       "261            34694  True  \n",
       "869             4484  True  \n",
       "1588            2315  True  \n",
       "91             58729  True  "
      ]
     },
     "execution_count": 8,
     "metadata": {},
     "output_type": "execute_result"
    }
   ],
   "source": [
    "raw_data[raw_data['price'] != 0].sort_values(by = 'price', ascending = False)"
   ]
  },
  {
   "cell_type": "markdown",
   "id": "wanted-battlefield",
   "metadata": {
    "papermill": {
     "duration": 0.02203,
     "end_time": "2021-04-24T03:49:10.705497",
     "exception": false,
     "start_time": "2021-04-24T03:49:10.683467",
     "status": "completed"
    },
    "tags": []
   },
   "source": [
    "Here we have _Minecraft_ as the most expensive game on this list, costing $7.49, with more than 10.0 M installs at the time this dataset was gathered."
   ]
  },
  {
   "cell_type": "markdown",
   "id": "pleased-safety",
   "metadata": {
    "papermill": {
     "duration": 0.021877,
     "end_time": "2021-04-24T03:49:10.749638",
     "exception": false,
     "start_time": "2021-04-24T03:49:10.727761",
     "status": "completed"
    },
    "tags": []
   },
   "source": [
    "## Star Ratings"
   ]
  },
  {
   "cell_type": "markdown",
   "id": "iraqi-chrome",
   "metadata": {
    "papermill": {
     "duration": 0.022046,
     "end_time": "2021-04-24T03:49:10.793905",
     "exception": false,
     "start_time": "2021-04-24T03:49:10.771859",
     "status": "completed"
    },
    "tags": []
   },
   "source": [
    "Using the 5 columns that counts the number of different star ratings we can arrive at a final star rating using a weighted average. In this case:\n",
    "\n",
    "$$\\text{final rating} = \\frac{5 \\times (\\text{#5⋆}) + 4 \\times (\\text{#4⋆}) + 3 \\times (\\text{#3⋆}) + 2 \\times (\\text{#2⋆}) + (\\text{#1⋆})}{(\\text{#5⋆}) +(\\text{#4⋆}) +(\\text{#3⋆}) +(\\text{#2⋆}) +(\\text{#1⋆})}$$\n",
    "\n",
    "where $(\\#x⋆)$ indicates the total number of $x$ star ratings for $x = 1, 2, 3, 4, 5$."
   ]
  },
  {
   "cell_type": "code",
   "execution_count": 9,
   "id": "confused-deployment",
   "metadata": {
    "execution": {
     "iopub.execute_input": "2021-04-24T03:49:10.841571Z",
     "iopub.status.busy": "2021-04-24T03:49:10.840653Z",
     "iopub.status.idle": "2021-04-24T03:49:10.952549Z",
     "shell.execute_reply": "2021-04-24T03:49:10.951981Z"
    },
    "papermill": {
     "duration": 0.136573,
     "end_time": "2021-04-24T03:49:10.952708",
     "exception": false,
     "start_time": "2021-04-24T03:49:10.816135",
     "status": "completed"
    },
    "tags": []
   },
   "outputs": [],
   "source": [
    "final_stars = lambda row: (5*row['5 star ratings'] + 4*row['4 star ratings'] + 3*row['3 star ratings'] \\\n",
    "                           + 2*row['2 star ratings'] + row['1 star ratings']) / (row['5 star ratings'] \\\n",
    "                           + row['4 star ratings'] + row['3 star ratings'] + row['2 star ratings'] \\\n",
    "                           + row['1 star ratings'])\n",
    "games_with_rating = raw_data\n",
    "games_with_rating['final rating'] = games_with_rating.apply(final_stars, axis=1)"
   ]
  },
  {
   "cell_type": "code",
   "execution_count": 10,
   "id": "typical-tournament",
   "metadata": {
    "execution": {
     "iopub.execute_input": "2021-04-24T03:49:11.002102Z",
     "iopub.status.busy": "2021-04-24T03:49:11.001409Z",
     "iopub.status.idle": "2021-04-24T03:49:11.034723Z",
     "shell.execute_reply": "2021-04-24T03:49:11.034059Z"
    },
    "papermill": {
     "duration": 0.059852,
     "end_time": "2021-04-24T03:49:11.034869",
     "exception": false,
     "start_time": "2021-04-24T03:49:10.975017",
     "status": "completed"
    },
    "tags": []
   },
   "outputs": [
    {
     "data": {
      "text/html": [
       "<div>\n",
       "<style scoped>\n",
       "    .dataframe tbody tr th:only-of-type {\n",
       "        vertical-align: middle;\n",
       "    }\n",
       "\n",
       "    .dataframe tbody tr th {\n",
       "        vertical-align: top;\n",
       "    }\n",
       "\n",
       "    .dataframe thead th {\n",
       "        text-align: right;\n",
       "    }\n",
       "</style>\n",
       "<table border=\"1\" class=\"dataframe\">\n",
       "  <thead>\n",
       "    <tr style=\"text-align: right;\">\n",
       "      <th></th>\n",
       "      <th>rank</th>\n",
       "      <th>title</th>\n",
       "      <th>total ratings</th>\n",
       "      <th>installs</th>\n",
       "      <th>average rating</th>\n",
       "      <th>growth (30 days)</th>\n",
       "      <th>growth (60 days)</th>\n",
       "      <th>price</th>\n",
       "      <th>category</th>\n",
       "      <th>5 star ratings</th>\n",
       "      <th>4 star ratings</th>\n",
       "      <th>3 star ratings</th>\n",
       "      <th>2 star ratings</th>\n",
       "      <th>1 star ratings</th>\n",
       "      <th>paid</th>\n",
       "      <th>final rating</th>\n",
       "    </tr>\n",
       "  </thead>\n",
       "  <tbody>\n",
       "    <tr>\n",
       "      <th>741</th>\n",
       "      <td>18</td>\n",
       "      <td>超級單字王 - 英檢、多益、托福 輕鬆學</td>\n",
       "      <td>156922</td>\n",
       "      <td>500.0 k</td>\n",
       "      <td>4.91</td>\n",
       "      <td>0.6</td>\n",
       "      <td>1.5</td>\n",
       "      <td>0.0</td>\n",
       "      <td>GAME EDUCATIONAL</td>\n",
       "      <td>148058</td>\n",
       "      <td>6185</td>\n",
       "      <td>1428</td>\n",
       "      <td>369</td>\n",
       "      <td>879</td>\n",
       "      <td>False</td>\n",
       "      <td>4.912923</td>\n",
       "    </tr>\n",
       "    <tr>\n",
       "      <th>956</th>\n",
       "      <td>33</td>\n",
       "      <td>Indy Cat for VK</td>\n",
       "      <td>999159</td>\n",
       "      <td>5.0 M</td>\n",
       "      <td>4.87</td>\n",
       "      <td>0.0</td>\n",
       "      <td>0.0</td>\n",
       "      <td>0.0</td>\n",
       "      <td>GAME PUZZLE</td>\n",
       "      <td>932203</td>\n",
       "      <td>35588</td>\n",
       "      <td>10645</td>\n",
       "      <td>5257</td>\n",
       "      <td>15464</td>\n",
       "      <td>False</td>\n",
       "      <td>4.865382</td>\n",
       "    </tr>\n",
       "    <tr>\n",
       "      <th>1658</th>\n",
       "      <td>31</td>\n",
       "      <td>Word Collect - Free Word Games</td>\n",
       "      <td>406650</td>\n",
       "      <td>10.0 M</td>\n",
       "      <td>4.82</td>\n",
       "      <td>3.7</td>\n",
       "      <td>9.4</td>\n",
       "      <td>0.0</td>\n",
       "      <td>GAME WORD</td>\n",
       "      <td>373268</td>\n",
       "      <td>16566</td>\n",
       "      <td>4404</td>\n",
       "      <td>3184</td>\n",
       "      <td>9225</td>\n",
       "      <td>False</td>\n",
       "      <td>4.823370</td>\n",
       "    </tr>\n",
       "    <tr>\n",
       "      <th>813</th>\n",
       "      <td>90</td>\n",
       "      <td>Английский для Начинающих: LinDuo HD</td>\n",
       "      <td>50859</td>\n",
       "      <td>1.0 M</td>\n",
       "      <td>4.82</td>\n",
       "      <td>4.5</td>\n",
       "      <td>8.3</td>\n",
       "      <td>0.0</td>\n",
       "      <td>GAME EDUCATIONAL</td>\n",
       "      <td>44723</td>\n",
       "      <td>4611</td>\n",
       "      <td>707</td>\n",
       "      <td>288</td>\n",
       "      <td>527</td>\n",
       "      <td>False</td>\n",
       "      <td>4.823089</td>\n",
       "    </tr>\n",
       "    <tr>\n",
       "      <th>575</th>\n",
       "      <td>54</td>\n",
       "      <td>Free Slot Machines with Bonus Games!</td>\n",
       "      <td>206215</td>\n",
       "      <td>5.0 M</td>\n",
       "      <td>4.82</td>\n",
       "      <td>0.3</td>\n",
       "      <td>0.6</td>\n",
       "      <td>0.0</td>\n",
       "      <td>GAME CASINO</td>\n",
       "      <td>188876</td>\n",
       "      <td>7861</td>\n",
       "      <td>3876</td>\n",
       "      <td>1265</td>\n",
       "      <td>4334</td>\n",
       "      <td>False</td>\n",
       "      <td>4.821814</td>\n",
       "    </tr>\n",
       "    <tr>\n",
       "      <th>...</th>\n",
       "      <td>...</td>\n",
       "      <td>...</td>\n",
       "      <td>...</td>\n",
       "      <td>...</td>\n",
       "      <td>...</td>\n",
       "      <td>...</td>\n",
       "      <td>...</td>\n",
       "      <td>...</td>\n",
       "      <td>...</td>\n",
       "      <td>...</td>\n",
       "      <td>...</td>\n",
       "      <td>...</td>\n",
       "      <td>...</td>\n",
       "      <td>...</td>\n",
       "      <td>...</td>\n",
       "      <td>...</td>\n",
       "    </tr>\n",
       "    <tr>\n",
       "      <th>1592</th>\n",
       "      <td>69</td>\n",
       "      <td>NEW QuizDuel!</td>\n",
       "      <td>65544</td>\n",
       "      <td>1.0 M</td>\n",
       "      <td>3.21</td>\n",
       "      <td>7.4</td>\n",
       "      <td>17.8</td>\n",
       "      <td>0.0</td>\n",
       "      <td>GAME TRIVIA</td>\n",
       "      <td>24833</td>\n",
       "      <td>11671</td>\n",
       "      <td>3568</td>\n",
       "      <td>3499</td>\n",
       "      <td>21970</td>\n",
       "      <td>False</td>\n",
       "      <td>3.212050</td>\n",
       "    </tr>\n",
       "    <tr>\n",
       "      <th>1606</th>\n",
       "      <td>83</td>\n",
       "      <td>TopQuiz -Play Quiz &amp; Lottery | Win Money via P...</td>\n",
       "      <td>55050</td>\n",
       "      <td>1.0 M</td>\n",
       "      <td>3.20</td>\n",
       "      <td>0.1</td>\n",
       "      <td>0.4</td>\n",
       "      <td>0.0</td>\n",
       "      <td>GAME TRIVIA</td>\n",
       "      <td>24578</td>\n",
       "      <td>4760</td>\n",
       "      <td>2971</td>\n",
       "      <td>2454</td>\n",
       "      <td>20284</td>\n",
       "      <td>False</td>\n",
       "      <td>3.197904</td>\n",
       "    </tr>\n",
       "    <tr>\n",
       "      <th>304</th>\n",
       "      <td>5</td>\n",
       "      <td>모두의마블</td>\n",
       "      <td>1596758</td>\n",
       "      <td>10.0 M</td>\n",
       "      <td>3.16</td>\n",
       "      <td>0.0</td>\n",
       "      <td>0.0</td>\n",
       "      <td>0.0</td>\n",
       "      <td>GAME BOARD</td>\n",
       "      <td>666378</td>\n",
       "      <td>138474</td>\n",
       "      <td>141241</td>\n",
       "      <td>89312</td>\n",
       "      <td>561350</td>\n",
       "      <td>False</td>\n",
       "      <td>3.162340</td>\n",
       "    </tr>\n",
       "    <tr>\n",
       "      <th>1590</th>\n",
       "      <td>67</td>\n",
       "      <td>스케치퀴즈</td>\n",
       "      <td>65734</td>\n",
       "      <td>5.0 M</td>\n",
       "      <td>3.13</td>\n",
       "      <td>0.0</td>\n",
       "      <td>0.0</td>\n",
       "      <td>0.0</td>\n",
       "      <td>GAME TRIVIA</td>\n",
       "      <td>25093</td>\n",
       "      <td>6939</td>\n",
       "      <td>6959</td>\n",
       "      <td>4763</td>\n",
       "      <td>21977</td>\n",
       "      <td>False</td>\n",
       "      <td>3.127915</td>\n",
       "    </tr>\n",
       "    <tr>\n",
       "      <th>873</th>\n",
       "      <td>50</td>\n",
       "      <td>Au Mobile VTC – Game nhảy Audition</td>\n",
       "      <td>103881</td>\n",
       "      <td>5.0 M</td>\n",
       "      <td>3.09</td>\n",
       "      <td>0.1</td>\n",
       "      <td>0.3</td>\n",
       "      <td>0.0</td>\n",
       "      <td>GAME MUSIC</td>\n",
       "      <td>44324</td>\n",
       "      <td>6906</td>\n",
       "      <td>6996</td>\n",
       "      <td>5536</td>\n",
       "      <td>40117</td>\n",
       "      <td>False</td>\n",
       "      <td>3.094187</td>\n",
       "    </tr>\n",
       "  </tbody>\n",
       "</table>\n",
       "<p>1730 rows × 16 columns</p>\n",
       "</div>"
      ],
      "text/plain": [
       "      rank                                              title  total ratings  \\\n",
       "741     18                               超級單字王 - 英檢、多益、托福 輕鬆學         156922   \n",
       "956     33                                    Indy Cat for VK         999159   \n",
       "1658    31                     Word Collect - Free Word Games         406650   \n",
       "813     90               Английский для Начинающих: LinDuo HD          50859   \n",
       "575     54               Free Slot Machines with Bonus Games!         206215   \n",
       "...    ...                                                ...            ...   \n",
       "1592    69                                      NEW QuizDuel!          65544   \n",
       "1606    83  TopQuiz -Play Quiz & Lottery | Win Money via P...          55050   \n",
       "304      5                                              모두의마블        1596758   \n",
       "1590    67                                              스케치퀴즈          65734   \n",
       "873     50                 Au Mobile VTC – Game nhảy Audition         103881   \n",
       "\n",
       "     installs  average rating  growth (30 days)  growth (60 days)  price  \\\n",
       "741   500.0 k            4.91               0.6               1.5    0.0   \n",
       "956     5.0 M            4.87               0.0               0.0    0.0   \n",
       "1658   10.0 M            4.82               3.7               9.4    0.0   \n",
       "813     1.0 M            4.82               4.5               8.3    0.0   \n",
       "575     5.0 M            4.82               0.3               0.6    0.0   \n",
       "...       ...             ...               ...               ...    ...   \n",
       "1592    1.0 M            3.21               7.4              17.8    0.0   \n",
       "1606    1.0 M            3.20               0.1               0.4    0.0   \n",
       "304    10.0 M            3.16               0.0               0.0    0.0   \n",
       "1590    5.0 M            3.13               0.0               0.0    0.0   \n",
       "873     5.0 M            3.09               0.1               0.3    0.0   \n",
       "\n",
       "              category  5 star ratings  4 star ratings  3 star ratings  \\\n",
       "741   GAME EDUCATIONAL          148058            6185            1428   \n",
       "956        GAME PUZZLE          932203           35588           10645   \n",
       "1658         GAME WORD          373268           16566            4404   \n",
       "813   GAME EDUCATIONAL           44723            4611             707   \n",
       "575        GAME CASINO          188876            7861            3876   \n",
       "...                ...             ...             ...             ...   \n",
       "1592       GAME TRIVIA           24833           11671            3568   \n",
       "1606       GAME TRIVIA           24578            4760            2971   \n",
       "304         GAME BOARD          666378          138474          141241   \n",
       "1590       GAME TRIVIA           25093            6939            6959   \n",
       "873         GAME MUSIC           44324            6906            6996   \n",
       "\n",
       "      2 star ratings  1 star ratings   paid  final rating  \n",
       "741              369             879  False      4.912923  \n",
       "956             5257           15464  False      4.865382  \n",
       "1658            3184            9225  False      4.823370  \n",
       "813              288             527  False      4.823089  \n",
       "575             1265            4334  False      4.821814  \n",
       "...              ...             ...    ...           ...  \n",
       "1592            3499           21970  False      3.212050  \n",
       "1606            2454           20284  False      3.197904  \n",
       "304            89312          561350  False      3.162340  \n",
       "1590            4763           21977  False      3.127915  \n",
       "873             5536           40117  False      3.094187  \n",
       "\n",
       "[1730 rows x 16 columns]"
      ]
     },
     "execution_count": 10,
     "metadata": {},
     "output_type": "execute_result"
    }
   ],
   "source": [
    "games_with_rating.sort_values(by = 'final rating', ascending = False)"
   ]
  },
  {
   "cell_type": "code",
   "execution_count": 11,
   "id": "apart-hampshire",
   "metadata": {
    "execution": {
     "iopub.execute_input": "2021-04-24T03:49:11.090111Z",
     "iopub.status.busy": "2021-04-24T03:49:11.088855Z",
     "iopub.status.idle": "2021-04-24T03:49:11.099382Z",
     "shell.execute_reply": "2021-04-24T03:49:11.100448Z"
    },
    "papermill": {
     "duration": 0.042148,
     "end_time": "2021-04-24T03:49:11.100743",
     "exception": false,
     "start_time": "2021-04-24T03:49:11.058595",
     "status": "completed"
    },
    "tags": []
   },
   "outputs": [
    {
     "data": {
      "text/plain": [
       "count    1730.000000\n",
       "mean        4.313373\n",
       "std         0.253587\n",
       "min         3.094187\n",
       "25%         4.180504\n",
       "50%         4.332741\n",
       "75%         4.490263\n",
       "max         4.912923\n",
       "Name: final rating, dtype: float64"
      ]
     },
     "execution_count": 11,
     "metadata": {},
     "output_type": "execute_result"
    }
   ],
   "source": [
    "games_with_rating['final rating'].describe()"
   ]
  },
  {
   "cell_type": "markdown",
   "id": "cloudy-florida",
   "metadata": {
    "papermill": {
     "duration": 0.033236,
     "end_time": "2021-04-24T03:49:11.168451",
     "exception": false,
     "start_time": "2021-04-24T03:49:11.135215",
     "status": "completed"
    },
    "tags": []
   },
   "source": [
    "There's not a lot of variation in the final ratings and that's to be expected since this is a dataset from the top 100 games of each category. "
   ]
  },
  {
   "cell_type": "markdown",
   "id": "adverse-liberia",
   "metadata": {
    "papermill": {
     "duration": 0.027335,
     "end_time": "2021-04-24T03:49:11.223420",
     "exception": false,
     "start_time": "2021-04-24T03:49:11.196085",
     "status": "completed"
    },
    "tags": []
   },
   "source": [
    "## Highest Rated Category"
   ]
  },
  {
   "cell_type": "markdown",
   "id": "olympic-baghdad",
   "metadata": {
    "papermill": {
     "duration": 0.02338,
     "end_time": "2021-04-24T03:49:11.270607",
     "exception": false,
     "start_time": "2021-04-24T03:49:11.247227",
     "status": "completed"
    },
    "tags": []
   },
   "source": [
    "We need a metric to calculate the highest rating of each category. Here we'll use the average rating from the category to check the highest."
   ]
  },
  {
   "cell_type": "code",
   "execution_count": 12,
   "id": "federal-ending",
   "metadata": {
    "execution": {
     "iopub.execute_input": "2021-04-24T03:49:11.321522Z",
     "iopub.status.busy": "2021-04-24T03:49:11.320865Z",
     "iopub.status.idle": "2021-04-24T03:49:11.326045Z",
     "shell.execute_reply": "2021-04-24T03:49:11.326538Z"
    },
    "papermill": {
     "duration": 0.032307,
     "end_time": "2021-04-24T03:49:11.326735",
     "exception": false,
     "start_time": "2021-04-24T03:49:11.294428",
     "status": "completed"
    },
    "tags": []
   },
   "outputs": [
    {
     "data": {
      "text/plain": [
       "array(['GAME ACTION', 'GAME ADVENTURE', 'GAME ARCADE', 'GAME BOARD',\n",
       "       'GAME CARD', 'GAME CASINO', 'GAME CASUAL', 'GAME EDUCATIONAL',\n",
       "       'GAME MUSIC', 'GAME PUZZLE', 'GAME RACING', 'GAME ROLE PLAYING',\n",
       "       'GAME SIMULATION', 'GAME SPORTS', 'GAME STRATEGY', 'GAME TRIVIA',\n",
       "       'GAME WORD'], dtype=object)"
      ]
     },
     "execution_count": 12,
     "metadata": {},
     "output_type": "execute_result"
    }
   ],
   "source": [
    "games_with_rating['category'].unique()"
   ]
  },
  {
   "cell_type": "code",
   "execution_count": 13,
   "id": "applicable-vitamin",
   "metadata": {
    "execution": {
     "iopub.execute_input": "2021-04-24T03:49:11.379440Z",
     "iopub.status.busy": "2021-04-24T03:49:11.378822Z",
     "iopub.status.idle": "2021-04-24T03:49:11.397948Z",
     "shell.execute_reply": "2021-04-24T03:49:11.397405Z"
    },
    "papermill": {
     "duration": 0.046314,
     "end_time": "2021-04-24T03:49:11.398103",
     "exception": false,
     "start_time": "2021-04-24T03:49:11.351789",
     "status": "completed"
    },
    "tags": []
   },
   "outputs": [
    {
     "data": {
      "text/html": [
       "<div>\n",
       "<style scoped>\n",
       "    .dataframe tbody tr th:only-of-type {\n",
       "        vertical-align: middle;\n",
       "    }\n",
       "\n",
       "    .dataframe tbody tr th {\n",
       "        vertical-align: top;\n",
       "    }\n",
       "\n",
       "    .dataframe thead th {\n",
       "        text-align: right;\n",
       "    }\n",
       "</style>\n",
       "<table border=\"1\" class=\"dataframe\">\n",
       "  <thead>\n",
       "    <tr style=\"text-align: right;\">\n",
       "      <th></th>\n",
       "      <th>category</th>\n",
       "      <th>final rating</th>\n",
       "    </tr>\n",
       "  </thead>\n",
       "  <tbody>\n",
       "    <tr>\n",
       "      <th>16</th>\n",
       "      <td>GAME WORD</td>\n",
       "      <td>4.442993</td>\n",
       "    </tr>\n",
       "    <tr>\n",
       "      <th>5</th>\n",
       "      <td>GAME CASINO</td>\n",
       "      <td>4.437586</td>\n",
       "    </tr>\n",
       "    <tr>\n",
       "      <th>4</th>\n",
       "      <td>GAME CARD</td>\n",
       "      <td>4.421315</td>\n",
       "    </tr>\n",
       "    <tr>\n",
       "      <th>9</th>\n",
       "      <td>GAME PUZZLE</td>\n",
       "      <td>4.393757</td>\n",
       "    </tr>\n",
       "    <tr>\n",
       "      <th>3</th>\n",
       "      <td>GAME BOARD</td>\n",
       "      <td>4.347517</td>\n",
       "    </tr>\n",
       "    <tr>\n",
       "      <th>6</th>\n",
       "      <td>GAME CASUAL</td>\n",
       "      <td>4.335134</td>\n",
       "    </tr>\n",
       "    <tr>\n",
       "      <th>12</th>\n",
       "      <td>GAME SIMULATION</td>\n",
       "      <td>4.317544</td>\n",
       "    </tr>\n",
       "    <tr>\n",
       "      <th>10</th>\n",
       "      <td>GAME RACING</td>\n",
       "      <td>4.312110</td>\n",
       "    </tr>\n",
       "    <tr>\n",
       "      <th>2</th>\n",
       "      <td>GAME ARCADE</td>\n",
       "      <td>4.295247</td>\n",
       "    </tr>\n",
       "    <tr>\n",
       "      <th>11</th>\n",
       "      <td>GAME ROLE PLAYING</td>\n",
       "      <td>4.275691</td>\n",
       "    </tr>\n",
       "    <tr>\n",
       "      <th>14</th>\n",
       "      <td>GAME STRATEGY</td>\n",
       "      <td>4.265235</td>\n",
       "    </tr>\n",
       "    <tr>\n",
       "      <th>1</th>\n",
       "      <td>GAME ADVENTURE</td>\n",
       "      <td>4.264376</td>\n",
       "    </tr>\n",
       "    <tr>\n",
       "      <th>13</th>\n",
       "      <td>GAME SPORTS</td>\n",
       "      <td>4.261386</td>\n",
       "    </tr>\n",
       "    <tr>\n",
       "      <th>7</th>\n",
       "      <td>GAME EDUCATIONAL</td>\n",
       "      <td>4.253470</td>\n",
       "    </tr>\n",
       "    <tr>\n",
       "      <th>15</th>\n",
       "      <td>GAME TRIVIA</td>\n",
       "      <td>4.245882</td>\n",
       "    </tr>\n",
       "    <tr>\n",
       "      <th>0</th>\n",
       "      <td>GAME ACTION</td>\n",
       "      <td>4.245805</td>\n",
       "    </tr>\n",
       "    <tr>\n",
       "      <th>8</th>\n",
       "      <td>GAME MUSIC</td>\n",
       "      <td>4.180331</td>\n",
       "    </tr>\n",
       "  </tbody>\n",
       "</table>\n",
       "</div>"
      ],
      "text/plain": [
       "             category  final rating\n",
       "16          GAME WORD      4.442993\n",
       "5         GAME CASINO      4.437586\n",
       "4           GAME CARD      4.421315\n",
       "9         GAME PUZZLE      4.393757\n",
       "3          GAME BOARD      4.347517\n",
       "6         GAME CASUAL      4.335134\n",
       "12    GAME SIMULATION      4.317544\n",
       "10        GAME RACING      4.312110\n",
       "2         GAME ARCADE      4.295247\n",
       "11  GAME ROLE PLAYING      4.275691\n",
       "14      GAME STRATEGY      4.265235\n",
       "1      GAME ADVENTURE      4.264376\n",
       "13        GAME SPORTS      4.261386\n",
       "7    GAME EDUCATIONAL      4.253470\n",
       "15        GAME TRIVIA      4.245882\n",
       "0         GAME ACTION      4.245805\n",
       "8          GAME MUSIC      4.180331"
      ]
     },
     "execution_count": 13,
     "metadata": {},
     "output_type": "execute_result"
    }
   ],
   "source": [
    "df1 = games_with_rating.groupby(['category'], as_index = False).mean()\n",
    "df1[['category', 'final rating']].sort_values(by = 'final rating', ascending = False)"
   ]
  },
  {
   "cell_type": "markdown",
   "id": "solved-laser",
   "metadata": {
    "papermill": {
     "duration": 0.025229,
     "end_time": "2021-04-24T03:49:11.448627",
     "exception": false,
     "start_time": "2021-04-24T03:49:11.423398",
     "status": "completed"
    },
    "tags": []
   },
   "source": [
    "From this, we see that the category __'GAME WORD'__ has the highest final rating of all the categories, but the values are indeed pretty close for all of them, seeing as this is a top games list."
   ]
  },
  {
   "cell_type": "markdown",
   "id": "frequent-jumping",
   "metadata": {
    "papermill": {
     "duration": 0.025256,
     "end_time": "2021-04-24T03:49:11.499457",
     "exception": false,
     "start_time": "2021-04-24T03:49:11.474201",
     "status": "completed"
    },
    "tags": []
   },
   "source": [
    "## This is a work in progress. Adding some visualizations might be useful in the future."
   ]
  },
  {
   "cell_type": "code",
   "execution_count": null,
   "id": "facial-arlington",
   "metadata": {
    "papermill": {
     "duration": 0.025222,
     "end_time": "2021-04-24T03:49:11.550208",
     "exception": false,
     "start_time": "2021-04-24T03:49:11.524986",
     "status": "completed"
    },
    "tags": []
   },
   "outputs": [],
   "source": []
  }
 ],
 "metadata": {
  "kernelspec": {
   "display_name": "Python 3",
   "language": "python",
   "name": "python3"
  },
  "language_info": {
   "codemirror_mode": {
    "name": "ipython",
    "version": 3
   },
   "file_extension": ".py",
   "mimetype": "text/x-python",
   "name": "python",
   "nbconvert_exporter": "python",
   "pygments_lexer": "ipython3",
   "version": "3.7.10"
  },
  "papermill": {
   "default_parameters": {},
   "duration": 10.694117,
   "end_time": "2021-04-24T03:49:12.183967",
   "environment_variables": {},
   "exception": null,
   "input_path": "__notebook__.ipynb",
   "output_path": "__notebook__.ipynb",
   "parameters": {},
   "start_time": "2021-04-24T03:49:01.489850",
   "version": "2.3.3"
  }
 },
 "nbformat": 4,
 "nbformat_minor": 5
}
