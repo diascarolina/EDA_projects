{
 "cells": [
  {
   "cell_type": "markdown",
   "metadata": {
    "papermill": {
     "duration": 0.02993,
     "end_time": "2021-04-28T02:36:25.123962",
     "exception": false,
     "start_time": "2021-04-28T02:36:25.094032",
     "status": "completed"
    },
    "tags": []
   },
   "source": [
    "# Top Games on Google Play Store - An EDA"
   ]
  },
  {
   "cell_type": "markdown",
   "metadata": {
    "papermill": {
     "duration": 0.028337,
     "end_time": "2021-04-28T02:36:25.180831",
     "exception": false,
     "start_time": "2021-04-28T02:36:25.152494",
     "status": "completed"
    },
    "tags": []
   },
   "source": [
    "# Problem Context"
   ]
  },
  {
   "cell_type": "markdown",
   "metadata": {
    "papermill": {
     "duration": 0.029548,
     "end_time": "2021-04-28T02:36:25.238816",
     "exception": false,
     "start_time": "2021-04-28T02:36:25.209268",
     "status": "completed"
    },
    "tags": []
   },
   "source": [
    "A mobile game developer is planning to develop an Android game and put it on [Google Play Store](https://play.google.com/store/apps). The developer wants to strategically analyze the top existing games on Play Store in order to have a better sense of what to develop. The main questions that the developer wants an answer are:\n",
    "\n",
    "1. Which types of games are more successful in number of ratings?\n",
    "2. Paid or free games? If paid, what is a good price to go for?\n",
    "4. Which types of games are growing at the moment?\n",
    "3. Which types of games have the highest overall ratings?\n",
    "\n",
    "We'll answer these questions using an Exploratory Data Analysis (EDA) approach using the \"*android-games.csv*\" dataset which can be found at [Top Games of Google Play Store](https://www.kaggle.com/dhruvildave/top-play-store-games).\n",
    "\n",
    "For now, there won't be a data cleaning step."
   ]
  },
  {
   "cell_type": "markdown",
   "metadata": {
    "papermill": {
     "duration": 0.036702,
     "end_time": "2021-04-28T02:36:25.310063",
     "exception": false,
     "start_time": "2021-04-28T02:36:25.273361",
     "status": "completed"
    },
    "tags": []
   },
   "source": [
    "# Data Exploration"
   ]
  },
  {
   "cell_type": "markdown",
   "metadata": {
    "papermill": {
     "duration": 0.029412,
     "end_time": "2021-04-28T02:36:25.373835",
     "exception": false,
     "start_time": "2021-04-28T02:36:25.344423",
     "status": "completed"
    },
    "tags": []
   },
   "source": [
    "### Import the Libraries Used"
   ]
  },
  {
   "cell_type": "code",
   "execution_count": 1,
   "metadata": {
    "papermill": {
     "duration": 0.949416,
     "end_time": "2021-04-28T02:36:26.352197",
     "exception": false,
     "start_time": "2021-04-28T02:36:25.402781",
     "status": "completed"
    },
    "tags": []
   },
   "outputs": [],
   "source": [
    "import numpy as np\n",
    "import pandas as pd\n",
    "import matplotlib.pyplot as plt\n",
    "import seaborn as sns\n",
    "\n",
    "import warnings\n",
    "warnings.filterwarnings('ignore')\n",
    "\n",
    "\n",
    "sns.set_theme(style = 'white') # theme used for the seaborn graphs"
   ]
  },
  {
   "cell_type": "markdown",
   "metadata": {
    "papermill": {
     "duration": 0.028733,
     "end_time": "2021-04-28T02:36:26.410514",
     "exception": false,
     "start_time": "2021-04-28T02:36:26.381781",
     "status": "completed"
    },
    "tags": []
   },
   "source": [
    "### Load and Read Data"
   ]
  },
  {
   "cell_type": "code",
   "execution_count": 2,
   "metadata": {
    "papermill": {
     "duration": 0.063385,
     "end_time": "2021-04-28T02:36:26.504205",
     "exception": false,
     "start_time": "2021-04-28T02:36:26.440820",
     "status": "completed"
    },
    "tags": []
   },
   "outputs": [],
   "source": [
    "data_path = 'android-games.csv'\n",
    "raw_data = pd.read_csv(data_path)"
   ]
  },
  {
   "cell_type": "markdown",
   "metadata": {
    "papermill": {
     "duration": 0.028831,
     "end_time": "2021-04-28T02:36:26.562916",
     "exception": false,
     "start_time": "2021-04-28T02:36:26.534085",
     "status": "completed"
    },
    "tags": []
   },
   "source": [
    "### Basic Data Information"
   ]
  },
  {
   "cell_type": "code",
   "execution_count": 3,
   "metadata": {
    "papermill": {
     "duration": 0.066999,
     "end_time": "2021-04-28T02:36:26.660327",
     "exception": false,
     "start_time": "2021-04-28T02:36:26.593328",
     "status": "completed"
    },
    "tags": []
   },
   "outputs": [
    {
     "data": {
      "text/html": [
       "<div>\n",
       "<style scoped>\n",
       "    .dataframe tbody tr th:only-of-type {\n",
       "        vertical-align: middle;\n",
       "    }\n",
       "\n",
       "    .dataframe tbody tr th {\n",
       "        vertical-align: top;\n",
       "    }\n",
       "\n",
       "    .dataframe thead th {\n",
       "        text-align: right;\n",
       "    }\n",
       "</style>\n",
       "<table border=\"1\" class=\"dataframe\">\n",
       "  <thead>\n",
       "    <tr style=\"text-align: right;\">\n",
       "      <th></th>\n",
       "      <th>rank</th>\n",
       "      <th>title</th>\n",
       "      <th>total ratings</th>\n",
       "      <th>installs</th>\n",
       "      <th>average rating</th>\n",
       "      <th>growth (30 days)</th>\n",
       "      <th>growth (60 days)</th>\n",
       "      <th>price</th>\n",
       "      <th>category</th>\n",
       "      <th>5 star ratings</th>\n",
       "      <th>4 star ratings</th>\n",
       "      <th>3 star ratings</th>\n",
       "      <th>2 star ratings</th>\n",
       "      <th>1 star ratings</th>\n",
       "      <th>paid</th>\n",
       "    </tr>\n",
       "  </thead>\n",
       "  <tbody>\n",
       "    <tr>\n",
       "      <th>0</th>\n",
       "      <td>1</td>\n",
       "      <td>Garena Free Fire - The Cobra</td>\n",
       "      <td>80678661</td>\n",
       "      <td>500.0 M</td>\n",
       "      <td>4.33</td>\n",
       "      <td>2.9</td>\n",
       "      <td>7.9</td>\n",
       "      <td>0.0</td>\n",
       "      <td>GAME ACTION</td>\n",
       "      <td>61935712</td>\n",
       "      <td>4478738</td>\n",
       "      <td>2795172</td>\n",
       "      <td>1814999</td>\n",
       "      <td>9654037</td>\n",
       "      <td>False</td>\n",
       "    </tr>\n",
       "    <tr>\n",
       "      <th>1</th>\n",
       "      <td>2</td>\n",
       "      <td>PUBG MOBILE: Graffiti Prank</td>\n",
       "      <td>35971961</td>\n",
       "      <td>100.0 M</td>\n",
       "      <td>4.24</td>\n",
       "      <td>2.0</td>\n",
       "      <td>3.1</td>\n",
       "      <td>0.0</td>\n",
       "      <td>GAME ACTION</td>\n",
       "      <td>26670566</td>\n",
       "      <td>2109631</td>\n",
       "      <td>1352610</td>\n",
       "      <td>893674</td>\n",
       "      <td>4945478</td>\n",
       "      <td>False</td>\n",
       "    </tr>\n",
       "    <tr>\n",
       "      <th>2</th>\n",
       "      <td>3</td>\n",
       "      <td>Mobile Legends: Bang Bang</td>\n",
       "      <td>25836869</td>\n",
       "      <td>100.0 M</td>\n",
       "      <td>4.08</td>\n",
       "      <td>1.6</td>\n",
       "      <td>3.3</td>\n",
       "      <td>0.0</td>\n",
       "      <td>GAME ACTION</td>\n",
       "      <td>17850942</td>\n",
       "      <td>1796761</td>\n",
       "      <td>1066095</td>\n",
       "      <td>725429</td>\n",
       "      <td>4397640</td>\n",
       "      <td>False</td>\n",
       "    </tr>\n",
       "    <tr>\n",
       "      <th>3</th>\n",
       "      <td>4</td>\n",
       "      <td>Brawl Stars</td>\n",
       "      <td>17181659</td>\n",
       "      <td>100.0 M</td>\n",
       "      <td>4.27</td>\n",
       "      <td>4.1</td>\n",
       "      <td>6.6</td>\n",
       "      <td>0.0</td>\n",
       "      <td>GAME ACTION</td>\n",
       "      <td>12493668</td>\n",
       "      <td>1474319</td>\n",
       "      <td>741410</td>\n",
       "      <td>383478</td>\n",
       "      <td>2088781</td>\n",
       "      <td>False</td>\n",
       "    </tr>\n",
       "    <tr>\n",
       "      <th>4</th>\n",
       "      <td>5</td>\n",
       "      <td>Sniper 3D: Fun Free Online FPS Shooting Game</td>\n",
       "      <td>14237554</td>\n",
       "      <td>100.0 M</td>\n",
       "      <td>4.33</td>\n",
       "      <td>0.8</td>\n",
       "      <td>1.8</td>\n",
       "      <td>0.0</td>\n",
       "      <td>GAME ACTION</td>\n",
       "      <td>9657878</td>\n",
       "      <td>2124544</td>\n",
       "      <td>1034025</td>\n",
       "      <td>375159</td>\n",
       "      <td>1045945</td>\n",
       "      <td>False</td>\n",
       "    </tr>\n",
       "  </tbody>\n",
       "</table>\n",
       "</div>"
      ],
      "text/plain": [
       "   rank                                         title  total ratings installs  \\\n",
       "0     1                  Garena Free Fire - The Cobra       80678661  500.0 M   \n",
       "1     2                   PUBG MOBILE: Graffiti Prank       35971961  100.0 M   \n",
       "2     3                     Mobile Legends: Bang Bang       25836869  100.0 M   \n",
       "3     4                                   Brawl Stars       17181659  100.0 M   \n",
       "4     5  Sniper 3D: Fun Free Online FPS Shooting Game       14237554  100.0 M   \n",
       "\n",
       "   average rating  growth (30 days)  growth (60 days)  price     category  \\\n",
       "0            4.33               2.9               7.9    0.0  GAME ACTION   \n",
       "1            4.24               2.0               3.1    0.0  GAME ACTION   \n",
       "2            4.08               1.6               3.3    0.0  GAME ACTION   \n",
       "3            4.27               4.1               6.6    0.0  GAME ACTION   \n",
       "4            4.33               0.8               1.8    0.0  GAME ACTION   \n",
       "\n",
       "   5 star ratings  4 star ratings  3 star ratings  2 star ratings  \\\n",
       "0        61935712         4478738         2795172         1814999   \n",
       "1        26670566         2109631         1352610          893674   \n",
       "2        17850942         1796761         1066095          725429   \n",
       "3        12493668         1474319          741410          383478   \n",
       "4         9657878         2124544         1034025          375159   \n",
       "\n",
       "   1 star ratings   paid  \n",
       "0         9654037  False  \n",
       "1         4945478  False  \n",
       "2         4397640  False  \n",
       "3         2088781  False  \n",
       "4         1045945  False  "
      ]
     },
     "execution_count": 3,
     "metadata": {},
     "output_type": "execute_result"
    }
   ],
   "source": [
    "raw_data.head()"
   ]
  },
  {
   "cell_type": "markdown",
   "metadata": {
    "papermill": {
     "duration": 0.029642,
     "end_time": "2021-04-28T02:36:26.720363",
     "exception": false,
     "start_time": "2021-04-28T02:36:26.690721",
     "status": "completed"
    },
    "tags": []
   },
   "source": [
    "We can see that we have the following features:\n",
    "* __rank__: Rank in a particular category\n",
    "* __title__: Game title\n",
    "* __total ratings__: Total number of ratings\n",
    "* __installs__: Approximate install milestone\n",
    "* __average rating__: Average rating out of 5\n",
    "* __growth (30 days)__: Percent growth in 30 days\n",
    "* __growth (60 days)__: Percent growth in 60 days\n",
    "* __price__: Price in dollars\n",
    "* __category__: Game category\n",
    "* __5 star ratings__: Number of 5 star ratings\n",
    "* __4 star ratings__: Number of 4 star ratings\n",
    "* __3 star ratings__: Number of 3 star ratings\n",
    "* __2 star ratings__: Number of 2 star ratings\n",
    "* __1 star ratings__: Number of 1 star ratings\n",
    "* __paid__: Whether the game is paid or not\n",
    "\n",
    "There's not a lot of features in this dataset, but every one of them appears to be useful (maybe not the \"*title*\" for a numerical standpoint, but we'll keep it on the dataset for now)."
   ]
  },
  {
   "cell_type": "code",
   "execution_count": 4,
   "metadata": {
    "papermill": {
     "duration": 0.054475,
     "end_time": "2021-04-28T02:36:26.805386",
     "exception": false,
     "start_time": "2021-04-28T02:36:26.750911",
     "status": "completed"
    },
    "tags": []
   },
   "outputs": [
    {
     "name": "stdout",
     "output_type": "stream",
     "text": [
      "<class 'pandas.core.frame.DataFrame'>\n",
      "RangeIndex: 1730 entries, 0 to 1729\n",
      "Data columns (total 15 columns):\n",
      " #   Column            Non-Null Count  Dtype  \n",
      "---  ------            --------------  -----  \n",
      " 0   rank              1730 non-null   int64  \n",
      " 1   title             1730 non-null   object \n",
      " 2   total ratings     1730 non-null   int64  \n",
      " 3   installs          1730 non-null   object \n",
      " 4   average rating    1730 non-null   float64\n",
      " 5   growth (30 days)  1730 non-null   float64\n",
      " 6   growth (60 days)  1730 non-null   float64\n",
      " 7   price             1730 non-null   float64\n",
      " 8   category          1730 non-null   object \n",
      " 9   5 star ratings    1730 non-null   int64  \n",
      " 10  4 star ratings    1730 non-null   int64  \n",
      " 11  3 star ratings    1730 non-null   int64  \n",
      " 12  2 star ratings    1730 non-null   int64  \n",
      " 13  1 star ratings    1730 non-null   int64  \n",
      " 14  paid              1730 non-null   bool   \n",
      "dtypes: bool(1), float64(4), int64(7), object(3)\n",
      "memory usage: 191.0+ KB\n"
     ]
    }
   ],
   "source": [
    "raw_data.info()"
   ]
  },
  {
   "cell_type": "code",
   "execution_count": 5,
   "metadata": {
    "papermill": {
     "duration": 0.042591,
     "end_time": "2021-04-28T02:36:26.878203",
     "exception": false,
     "start_time": "2021-04-28T02:36:26.835612",
     "status": "completed"
    },
    "tags": []
   },
   "outputs": [
    {
     "data": {
      "text/plain": [
       "rank                0\n",
       "title               0\n",
       "total ratings       0\n",
       "installs            0\n",
       "average rating      0\n",
       "growth (30 days)    0\n",
       "growth (60 days)    0\n",
       "price               0\n",
       "category            0\n",
       "5 star ratings      0\n",
       "4 star ratings      0\n",
       "3 star ratings      0\n",
       "2 star ratings      0\n",
       "1 star ratings      0\n",
       "paid                0\n",
       "dtype: int64"
      ]
     },
     "execution_count": 5,
     "metadata": {},
     "output_type": "execute_result"
    }
   ],
   "source": [
    "raw_data.isnull().sum()"
   ]
  },
  {
   "cell_type": "markdown",
   "metadata": {
    "papermill": {
     "duration": 0.030748,
     "end_time": "2021-04-28T02:36:26.939278",
     "exception": false,
     "start_time": "2021-04-28T02:36:26.908530",
     "status": "completed"
    },
    "tags": []
   },
   "source": [
    "There is no null data and all the columns are filled on every row. This is expected since every game on Play Store must have all these information filled."
   ]
  },
  {
   "cell_type": "code",
   "execution_count": 6,
   "metadata": {
    "papermill": {
     "duration": 0.086382,
     "end_time": "2021-04-28T02:36:27.056583",
     "exception": false,
     "start_time": "2021-04-28T02:36:26.970201",
     "status": "completed"
    },
    "tags": []
   },
   "outputs": [
    {
     "data": {
      "text/html": [
       "<div>\n",
       "<style scoped>\n",
       "    .dataframe tbody tr th:only-of-type {\n",
       "        vertical-align: middle;\n",
       "    }\n",
       "\n",
       "    .dataframe tbody tr th {\n",
       "        vertical-align: top;\n",
       "    }\n",
       "\n",
       "    .dataframe thead th {\n",
       "        text-align: right;\n",
       "    }\n",
       "</style>\n",
       "<table border=\"1\" class=\"dataframe\">\n",
       "  <thead>\n",
       "    <tr style=\"text-align: right;\">\n",
       "      <th></th>\n",
       "      <th>rank</th>\n",
       "      <th>total ratings</th>\n",
       "      <th>average rating</th>\n",
       "      <th>growth (30 days)</th>\n",
       "      <th>growth (60 days)</th>\n",
       "      <th>price</th>\n",
       "      <th>5 star ratings</th>\n",
       "      <th>4 star ratings</th>\n",
       "      <th>3 star ratings</th>\n",
       "      <th>2 star ratings</th>\n",
       "      <th>1 star ratings</th>\n",
       "    </tr>\n",
       "  </thead>\n",
       "  <tbody>\n",
       "    <tr>\n",
       "      <th>count</th>\n",
       "      <td>1730.000000</td>\n",
       "      <td>1.730000e+03</td>\n",
       "      <td>1730.000000</td>\n",
       "      <td>1730.000000</td>\n",
       "      <td>1730.000000</td>\n",
       "      <td>1730.000000</td>\n",
       "      <td>1.730000e+03</td>\n",
       "      <td>1.730000e+03</td>\n",
       "      <td>1.730000e+03</td>\n",
       "      <td>1.730000e+03</td>\n",
       "      <td>1.730000e+03</td>\n",
       "    </tr>\n",
       "    <tr>\n",
       "      <th>mean</th>\n",
       "      <td>50.475723</td>\n",
       "      <td>1.101182e+06</td>\n",
       "      <td>4.313410</td>\n",
       "      <td>193.167341</td>\n",
       "      <td>3.969249</td>\n",
       "      <td>0.012965</td>\n",
       "      <td>7.883837e+05</td>\n",
       "      <td>1.216466e+05</td>\n",
       "      <td>5.954986e+04</td>\n",
       "      <td>2.796247e+04</td>\n",
       "      <td>1.036364e+05</td>\n",
       "    </tr>\n",
       "    <tr>\n",
       "      <th>std</th>\n",
       "      <td>28.941630</td>\n",
       "      <td>3.311738e+06</td>\n",
       "      <td>0.253545</td>\n",
       "      <td>4775.617650</td>\n",
       "      <td>18.912904</td>\n",
       "      <td>0.243492</td>\n",
       "      <td>2.483061e+06</td>\n",
       "      <td>2.955701e+05</td>\n",
       "      <td>1.447400e+05</td>\n",
       "      <td>7.676625e+04</td>\n",
       "      <td>3.589869e+05</td>\n",
       "    </tr>\n",
       "    <tr>\n",
       "      <th>min</th>\n",
       "      <td>1.000000</td>\n",
       "      <td>3.823800e+04</td>\n",
       "      <td>3.090000</td>\n",
       "      <td>0.000000</td>\n",
       "      <td>0.000000</td>\n",
       "      <td>0.000000</td>\n",
       "      <td>2.189800e+04</td>\n",
       "      <td>2.441000e+03</td>\n",
       "      <td>7.070000e+02</td>\n",
       "      <td>2.880000e+02</td>\n",
       "      <td>5.270000e+02</td>\n",
       "    </tr>\n",
       "    <tr>\n",
       "      <th>25%</th>\n",
       "      <td>25.000000</td>\n",
       "      <td>1.879988e+05</td>\n",
       "      <td>4.180000</td>\n",
       "      <td>0.100000</td>\n",
       "      <td>0.300000</td>\n",
       "      <td>0.000000</td>\n",
       "      <td>1.358290e+05</td>\n",
       "      <td>2.180200e+04</td>\n",
       "      <td>1.027775e+04</td>\n",
       "      <td>4.529500e+03</td>\n",
       "      <td>1.356075e+04</td>\n",
       "    </tr>\n",
       "    <tr>\n",
       "      <th>50%</th>\n",
       "      <td>51.000000</td>\n",
       "      <td>4.576750e+05</td>\n",
       "      <td>4.330000</td>\n",
       "      <td>0.500000</td>\n",
       "      <td>1.000000</td>\n",
       "      <td>0.000000</td>\n",
       "      <td>3.109435e+05</td>\n",
       "      <td>5.464350e+04</td>\n",
       "      <td>2.665850e+04</td>\n",
       "      <td>1.133050e+04</td>\n",
       "      <td>3.569400e+04</td>\n",
       "    </tr>\n",
       "    <tr>\n",
       "      <th>75%</th>\n",
       "      <td>75.750000</td>\n",
       "      <td>9.443342e+05</td>\n",
       "      <td>4.490000</td>\n",
       "      <td>1.600000</td>\n",
       "      <td>3.300000</td>\n",
       "      <td>0.000000</td>\n",
       "      <td>6.511310e+05</td>\n",
       "      <td>1.095648e+05</td>\n",
       "      <td>5.581750e+04</td>\n",
       "      <td>2.526650e+04</td>\n",
       "      <td>8.632625e+04</td>\n",
       "    </tr>\n",
       "    <tr>\n",
       "      <th>max</th>\n",
       "      <td>100.000000</td>\n",
       "      <td>8.067866e+07</td>\n",
       "      <td>4.910000</td>\n",
       "      <td>140394.400000</td>\n",
       "      <td>605.100000</td>\n",
       "      <td>7.490000</td>\n",
       "      <td>6.193571e+07</td>\n",
       "      <td>5.397273e+06</td>\n",
       "      <td>2.795172e+06</td>\n",
       "      <td>1.814999e+06</td>\n",
       "      <td>9.654037e+06</td>\n",
       "    </tr>\n",
       "  </tbody>\n",
       "</table>\n",
       "</div>"
      ],
      "text/plain": [
       "              rank  total ratings  average rating  growth (30 days)  \\\n",
       "count  1730.000000   1.730000e+03     1730.000000       1730.000000   \n",
       "mean     50.475723   1.101182e+06        4.313410        193.167341   \n",
       "std      28.941630   3.311738e+06        0.253545       4775.617650   \n",
       "min       1.000000   3.823800e+04        3.090000          0.000000   \n",
       "25%      25.000000   1.879988e+05        4.180000          0.100000   \n",
       "50%      51.000000   4.576750e+05        4.330000          0.500000   \n",
       "75%      75.750000   9.443342e+05        4.490000          1.600000   \n",
       "max     100.000000   8.067866e+07        4.910000     140394.400000   \n",
       "\n",
       "       growth (60 days)        price  5 star ratings  4 star ratings  \\\n",
       "count       1730.000000  1730.000000    1.730000e+03    1.730000e+03   \n",
       "mean           3.969249     0.012965    7.883837e+05    1.216466e+05   \n",
       "std           18.912904     0.243492    2.483061e+06    2.955701e+05   \n",
       "min            0.000000     0.000000    2.189800e+04    2.441000e+03   \n",
       "25%            0.300000     0.000000    1.358290e+05    2.180200e+04   \n",
       "50%            1.000000     0.000000    3.109435e+05    5.464350e+04   \n",
       "75%            3.300000     0.000000    6.511310e+05    1.095648e+05   \n",
       "max          605.100000     7.490000    6.193571e+07    5.397273e+06   \n",
       "\n",
       "       3 star ratings  2 star ratings  1 star ratings  \n",
       "count    1.730000e+03    1.730000e+03    1.730000e+03  \n",
       "mean     5.954986e+04    2.796247e+04    1.036364e+05  \n",
       "std      1.447400e+05    7.676625e+04    3.589869e+05  \n",
       "min      7.070000e+02    2.880000e+02    5.270000e+02  \n",
       "25%      1.027775e+04    4.529500e+03    1.356075e+04  \n",
       "50%      2.665850e+04    1.133050e+04    3.569400e+04  \n",
       "75%      5.581750e+04    2.526650e+04    8.632625e+04  \n",
       "max      2.795172e+06    1.814999e+06    9.654037e+06  "
      ]
     },
     "execution_count": 6,
     "metadata": {},
     "output_type": "execute_result"
    }
   ],
   "source": [
    "raw_data.describe()"
   ]
  },
  {
   "cell_type": "markdown",
   "metadata": {
    "papermill": {
     "duration": 0.031114,
     "end_time": "2021-04-28T02:36:27.119817",
     "exception": false,
     "start_time": "2021-04-28T02:36:27.088703",
     "status": "completed"
    },
    "tags": []
   },
   "source": [
    "# Price Analysis"
   ]
  },
  {
   "cell_type": "markdown",
   "metadata": {
    "papermill": {
     "duration": 0.030836,
     "end_time": "2021-04-28T02:36:27.181789",
     "exception": false,
     "start_time": "2021-04-28T02:36:27.150953",
     "status": "completed"
    },
    "tags": []
   },
   "source": [
    "From a preliminary analysis of the `raw_data.describe()` above, we can see that more than 75% of the top games are free (by checking when the \"_price_\" is 0.00). In fact, let's check the total (as a percentage):"
   ]
  },
  {
   "cell_type": "code",
   "execution_count": 7,
   "metadata": {
    "papermill": {
     "duration": 0.060183,
     "end_time": "2021-04-28T02:36:27.273293",
     "exception": false,
     "start_time": "2021-04-28T02:36:27.213110",
     "status": "completed"
    },
    "tags": []
   },
   "outputs": [
    {
     "data": {
      "text/plain": [
       "False    99.595376\n",
       "True      0.404624\n",
       "Name: paid, dtype: float64"
      ]
     },
     "execution_count": 7,
     "metadata": {},
     "output_type": "execute_result"
    }
   ],
   "source": [
    "# total free and paid games as a percentage\n",
    "raw_data['paid'].value_counts(normalize = True) * 100 "
   ]
  },
  {
   "cell_type": "markdown",
   "metadata": {
    "papermill": {
     "duration": 0.03367,
     "end_time": "2021-04-28T02:36:27.339184",
     "exception": false,
     "start_time": "2021-04-28T02:36:27.305514",
     "status": "completed"
    },
    "tags": []
   },
   "source": [
    "So only 0.40% of the games in this list are paid games (that acounts for only 7 games)."
   ]
  },
  {
   "cell_type": "markdown",
   "metadata": {
    "papermill": {
     "duration": 0.031688,
     "end_time": "2021-04-28T02:36:27.403048",
     "exception": false,
     "start_time": "2021-04-28T02:36:27.371360",
     "status": "completed"
    },
    "tags": []
   },
   "source": [
    "To find the paid games on this list we use:"
   ]
  },
  {
   "cell_type": "code",
   "execution_count": 8,
   "metadata": {
    "papermill": {
     "duration": 0.06131,
     "end_time": "2021-04-28T02:36:27.497054",
     "exception": false,
     "start_time": "2021-04-28T02:36:27.435744",
     "status": "completed"
    },
    "tags": []
   },
   "outputs": [
    {
     "data": {
      "text/html": [
       "<div>\n",
       "<style scoped>\n",
       "    .dataframe tbody tr th:only-of-type {\n",
       "        vertical-align: middle;\n",
       "    }\n",
       "\n",
       "    .dataframe tbody tr th {\n",
       "        vertical-align: top;\n",
       "    }\n",
       "\n",
       "    .dataframe thead th {\n",
       "        text-align: right;\n",
       "    }\n",
       "</style>\n",
       "<table border=\"1\" class=\"dataframe\">\n",
       "  <thead>\n",
       "    <tr style=\"text-align: right;\">\n",
       "      <th></th>\n",
       "      <th>rank</th>\n",
       "      <th>title</th>\n",
       "      <th>total ratings</th>\n",
       "      <th>installs</th>\n",
       "      <th>average rating</th>\n",
       "      <th>growth (30 days)</th>\n",
       "      <th>growth (60 days)</th>\n",
       "      <th>price</th>\n",
       "      <th>category</th>\n",
       "      <th>5 star ratings</th>\n",
       "      <th>4 star ratings</th>\n",
       "      <th>3 star ratings</th>\n",
       "      <th>2 star ratings</th>\n",
       "      <th>1 star ratings</th>\n",
       "      <th>paid</th>\n",
       "    </tr>\n",
       "  </thead>\n",
       "  <tbody>\n",
       "    <tr>\n",
       "      <th>211</th>\n",
       "      <td>12</td>\n",
       "      <td>Minecraft</td>\n",
       "      <td>3999232</td>\n",
       "      <td>10.0 M</td>\n",
       "      <td>4.54</td>\n",
       "      <td>1.4</td>\n",
       "      <td>2.8</td>\n",
       "      <td>7.49</td>\n",
       "      <td>GAME ARCADE</td>\n",
       "      <td>3214765</td>\n",
       "      <td>312995</td>\n",
       "      <td>138682</td>\n",
       "      <td>70661</td>\n",
       "      <td>262126</td>\n",
       "      <td>True</td>\n",
       "    </tr>\n",
       "    <tr>\n",
       "      <th>153</th>\n",
       "      <td>54</td>\n",
       "      <td>Terraria</td>\n",
       "      <td>317546</td>\n",
       "      <td>1.0 M</td>\n",
       "      <td>4.65</td>\n",
       "      <td>1.0</td>\n",
       "      <td>2.3</td>\n",
       "      <td>4.99</td>\n",
       "      <td>GAME ADVENTURE</td>\n",
       "      <td>264563</td>\n",
       "      <td>24837</td>\n",
       "      <td>10184</td>\n",
       "      <td>4387</td>\n",
       "      <td>13572</td>\n",
       "      <td>True</td>\n",
       "    </tr>\n",
       "    <tr>\n",
       "      <th>477</th>\n",
       "      <td>64</td>\n",
       "      <td>Reigns</td>\n",
       "      <td>146504</td>\n",
       "      <td>500.0 k</td>\n",
       "      <td>4.58</td>\n",
       "      <td>0.1</td>\n",
       "      <td>0.2</td>\n",
       "      <td>2.99</td>\n",
       "      <td>GAME CARD</td>\n",
       "      <td>108627</td>\n",
       "      <td>25330</td>\n",
       "      <td>5696</td>\n",
       "      <td>2743</td>\n",
       "      <td>4105</td>\n",
       "      <td>True</td>\n",
       "    </tr>\n",
       "    <tr>\n",
       "      <th>261</th>\n",
       "      <td>62</td>\n",
       "      <td>Geometry Dash</td>\n",
       "      <td>767518</td>\n",
       "      <td>1.0 M</td>\n",
       "      <td>4.62</td>\n",
       "      <td>0.6</td>\n",
       "      <td>1.2</td>\n",
       "      <td>1.99</td>\n",
       "      <td>GAME ARCADE</td>\n",
       "      <td>623950</td>\n",
       "      <td>73997</td>\n",
       "      <td>25169</td>\n",
       "      <td>9705</td>\n",
       "      <td>34694</td>\n",
       "      <td>True</td>\n",
       "    </tr>\n",
       "    <tr>\n",
       "      <th>869</th>\n",
       "      <td>46</td>\n",
       "      <td>Cytus II</td>\n",
       "      <td>109687</td>\n",
       "      <td>1.0 M</td>\n",
       "      <td>4.59</td>\n",
       "      <td>1.0</td>\n",
       "      <td>2.2</td>\n",
       "      <td>1.99</td>\n",
       "      <td>GAME MUSIC</td>\n",
       "      <td>86420</td>\n",
       "      <td>12246</td>\n",
       "      <td>4534</td>\n",
       "      <td>1999</td>\n",
       "      <td>4484</td>\n",
       "      <td>True</td>\n",
       "    </tr>\n",
       "    <tr>\n",
       "      <th>1588</th>\n",
       "      <td>65</td>\n",
       "      <td>Trivia Crack (No Ads)</td>\n",
       "      <td>74594</td>\n",
       "      <td>500.0 k</td>\n",
       "      <td>4.58</td>\n",
       "      <td>0.9</td>\n",
       "      <td>2.2</td>\n",
       "      <td>1.99</td>\n",
       "      <td>GAME TRIVIA</td>\n",
       "      <td>55411</td>\n",
       "      <td>12625</td>\n",
       "      <td>3123</td>\n",
       "      <td>1117</td>\n",
       "      <td>2315</td>\n",
       "      <td>True</td>\n",
       "    </tr>\n",
       "    <tr>\n",
       "      <th>91</th>\n",
       "      <td>92</td>\n",
       "      <td>Hitman Sniper</td>\n",
       "      <td>848831</td>\n",
       "      <td>10.0 M</td>\n",
       "      <td>4.41</td>\n",
       "      <td>0.3</td>\n",
       "      <td>0.8</td>\n",
       "      <td>0.99</td>\n",
       "      <td>GAME ACTION</td>\n",
       "      <td>607502</td>\n",
       "      <td>115334</td>\n",
       "      <td>48040</td>\n",
       "      <td>19224</td>\n",
       "      <td>58729</td>\n",
       "      <td>True</td>\n",
       "    </tr>\n",
       "  </tbody>\n",
       "</table>\n",
       "</div>"
      ],
      "text/plain": [
       "      rank                  title  total ratings installs  average rating  \\\n",
       "211     12              Minecraft        3999232   10.0 M            4.54   \n",
       "153     54               Terraria         317546    1.0 M            4.65   \n",
       "477     64                 Reigns         146504  500.0 k            4.58   \n",
       "261     62          Geometry Dash         767518    1.0 M            4.62   \n",
       "869     46               Cytus II         109687    1.0 M            4.59   \n",
       "1588    65  Trivia Crack (No Ads)          74594  500.0 k            4.58   \n",
       "91      92          Hitman Sniper         848831   10.0 M            4.41   \n",
       "\n",
       "      growth (30 days)  growth (60 days)  price        category  \\\n",
       "211                1.4               2.8   7.49     GAME ARCADE   \n",
       "153                1.0               2.3   4.99  GAME ADVENTURE   \n",
       "477                0.1               0.2   2.99       GAME CARD   \n",
       "261                0.6               1.2   1.99     GAME ARCADE   \n",
       "869                1.0               2.2   1.99      GAME MUSIC   \n",
       "1588               0.9               2.2   1.99     GAME TRIVIA   \n",
       "91                 0.3               0.8   0.99     GAME ACTION   \n",
       "\n",
       "      5 star ratings  4 star ratings  3 star ratings  2 star ratings  \\\n",
       "211          3214765          312995          138682           70661   \n",
       "153           264563           24837           10184            4387   \n",
       "477           108627           25330            5696            2743   \n",
       "261           623950           73997           25169            9705   \n",
       "869            86420           12246            4534            1999   \n",
       "1588           55411           12625            3123            1117   \n",
       "91            607502          115334           48040           19224   \n",
       "\n",
       "      1 star ratings  paid  \n",
       "211           262126  True  \n",
       "153            13572  True  \n",
       "477             4105  True  \n",
       "261            34694  True  \n",
       "869             4484  True  \n",
       "1588            2315  True  \n",
       "91             58729  True  "
      ]
     },
     "execution_count": 8,
     "metadata": {},
     "output_type": "execute_result"
    }
   ],
   "source": [
    "raw_data[raw_data['paid'] == True].sort_values(by = 'price', ascending = False)"
   ]
  },
  {
   "cell_type": "markdown",
   "metadata": {
    "papermill": {
     "duration": 0.032261,
     "end_time": "2021-04-28T02:36:27.562108",
     "exception": false,
     "start_time": "2021-04-28T02:36:27.529847",
     "status": "completed"
    },
    "tags": []
   },
   "source": [
    "Here we have __Minecraft__ as the most expensive game on this list, costing $7.49, with more than 10.0 M installs at the time this dataset was gathered. __Minecraft__ is also the most popular game among the paid ones, so price is not a problem for game success or popularity."
   ]
  },
  {
   "cell_type": "code",
   "execution_count": 9,
   "metadata": {
    "papermill": {
     "duration": 0.084755,
     "end_time": "2021-04-28T02:36:27.679461",
     "exception": false,
     "start_time": "2021-04-28T02:36:27.594706",
     "status": "completed"
    },
    "tags": []
   },
   "outputs": [
    {
     "data": {
      "text/html": [
       "<div>\n",
       "<style scoped>\n",
       "    .dataframe tbody tr th:only-of-type {\n",
       "        vertical-align: middle;\n",
       "    }\n",
       "\n",
       "    .dataframe tbody tr th {\n",
       "        vertical-align: top;\n",
       "    }\n",
       "\n",
       "    .dataframe thead th {\n",
       "        text-align: right;\n",
       "    }\n",
       "</style>\n",
       "<table border=\"1\" class=\"dataframe\">\n",
       "  <thead>\n",
       "    <tr style=\"text-align: right;\">\n",
       "      <th></th>\n",
       "      <th>rank</th>\n",
       "      <th>total ratings</th>\n",
       "      <th>average rating</th>\n",
       "      <th>growth (30 days)</th>\n",
       "      <th>growth (60 days)</th>\n",
       "      <th>price</th>\n",
       "      <th>5 star ratings</th>\n",
       "      <th>4 star ratings</th>\n",
       "      <th>3 star ratings</th>\n",
       "      <th>2 star ratings</th>\n",
       "      <th>1 star ratings</th>\n",
       "    </tr>\n",
       "  </thead>\n",
       "  <tbody>\n",
       "    <tr>\n",
       "      <th>count</th>\n",
       "      <td>7.000000</td>\n",
       "      <td>7.000000e+00</td>\n",
       "      <td>7.000000</td>\n",
       "      <td>7.000000</td>\n",
       "      <td>7.000000</td>\n",
       "      <td>7.000000</td>\n",
       "      <td>7.000000e+00</td>\n",
       "      <td>7.000000</td>\n",
       "      <td>7.000000</td>\n",
       "      <td>7.000000</td>\n",
       "      <td>7.000000</td>\n",
       "    </tr>\n",
       "    <tr>\n",
       "      <th>mean</th>\n",
       "      <td>56.428571</td>\n",
       "      <td>8.948446e+05</td>\n",
       "      <td>4.567143</td>\n",
       "      <td>0.757143</td>\n",
       "      <td>1.671429</td>\n",
       "      <td>3.204286</td>\n",
       "      <td>7.087483e+05</td>\n",
       "      <td>82480.571429</td>\n",
       "      <td>33632.571429</td>\n",
       "      <td>15690.857143</td>\n",
       "      <td>54289.285714</td>\n",
       "    </tr>\n",
       "    <tr>\n",
       "      <th>std</th>\n",
       "      <td>24.206453</td>\n",
       "      <td>1.404642e+06</td>\n",
       "      <td>0.077398</td>\n",
       "      <td>0.450397</td>\n",
       "      <td>0.946422</td>\n",
       "      <td>2.270410</td>\n",
       "      <td>1.130571e+06</td>\n",
       "      <td>108543.298241</td>\n",
       "      <td>49027.945799</td>\n",
       "      <td>25051.010109</td>\n",
       "      <td>93948.601940</td>\n",
       "    </tr>\n",
       "    <tr>\n",
       "      <th>min</th>\n",
       "      <td>12.000000</td>\n",
       "      <td>7.459400e+04</td>\n",
       "      <td>4.410000</td>\n",
       "      <td>0.100000</td>\n",
       "      <td>0.200000</td>\n",
       "      <td>0.990000</td>\n",
       "      <td>5.541100e+04</td>\n",
       "      <td>12246.000000</td>\n",
       "      <td>3123.000000</td>\n",
       "      <td>1117.000000</td>\n",
       "      <td>2315.000000</td>\n",
       "    </tr>\n",
       "    <tr>\n",
       "      <th>25%</th>\n",
       "      <td>50.000000</td>\n",
       "      <td>1.280955e+05</td>\n",
       "      <td>4.560000</td>\n",
       "      <td>0.450000</td>\n",
       "      <td>1.000000</td>\n",
       "      <td>1.990000</td>\n",
       "      <td>9.752350e+04</td>\n",
       "      <td>18731.000000</td>\n",
       "      <td>5115.000000</td>\n",
       "      <td>2371.000000</td>\n",
       "      <td>4294.500000</td>\n",
       "    </tr>\n",
       "    <tr>\n",
       "      <th>50%</th>\n",
       "      <td>62.000000</td>\n",
       "      <td>3.175460e+05</td>\n",
       "      <td>4.580000</td>\n",
       "      <td>0.900000</td>\n",
       "      <td>2.200000</td>\n",
       "      <td>1.990000</td>\n",
       "      <td>2.645630e+05</td>\n",
       "      <td>25330.000000</td>\n",
       "      <td>10184.000000</td>\n",
       "      <td>4387.000000</td>\n",
       "      <td>13572.000000</td>\n",
       "    </tr>\n",
       "    <tr>\n",
       "      <th>75%</th>\n",
       "      <td>64.500000</td>\n",
       "      <td>8.081745e+05</td>\n",
       "      <td>4.605000</td>\n",
       "      <td>1.000000</td>\n",
       "      <td>2.250000</td>\n",
       "      <td>3.990000</td>\n",
       "      <td>6.157260e+05</td>\n",
       "      <td>94665.500000</td>\n",
       "      <td>36604.500000</td>\n",
       "      <td>14464.500000</td>\n",
       "      <td>46711.500000</td>\n",
       "    </tr>\n",
       "    <tr>\n",
       "      <th>max</th>\n",
       "      <td>92.000000</td>\n",
       "      <td>3.999232e+06</td>\n",
       "      <td>4.650000</td>\n",
       "      <td>1.400000</td>\n",
       "      <td>2.800000</td>\n",
       "      <td>7.490000</td>\n",
       "      <td>3.214765e+06</td>\n",
       "      <td>312995.000000</td>\n",
       "      <td>138682.000000</td>\n",
       "      <td>70661.000000</td>\n",
       "      <td>262126.000000</td>\n",
       "    </tr>\n",
       "  </tbody>\n",
       "</table>\n",
       "</div>"
      ],
      "text/plain": [
       "            rank  total ratings  average rating  growth (30 days)  \\\n",
       "count   7.000000   7.000000e+00        7.000000          7.000000   \n",
       "mean   56.428571   8.948446e+05        4.567143          0.757143   \n",
       "std    24.206453   1.404642e+06        0.077398          0.450397   \n",
       "min    12.000000   7.459400e+04        4.410000          0.100000   \n",
       "25%    50.000000   1.280955e+05        4.560000          0.450000   \n",
       "50%    62.000000   3.175460e+05        4.580000          0.900000   \n",
       "75%    64.500000   8.081745e+05        4.605000          1.000000   \n",
       "max    92.000000   3.999232e+06        4.650000          1.400000   \n",
       "\n",
       "       growth (60 days)     price  5 star ratings  4 star ratings  \\\n",
       "count          7.000000  7.000000    7.000000e+00        7.000000   \n",
       "mean           1.671429  3.204286    7.087483e+05    82480.571429   \n",
       "std            0.946422  2.270410    1.130571e+06   108543.298241   \n",
       "min            0.200000  0.990000    5.541100e+04    12246.000000   \n",
       "25%            1.000000  1.990000    9.752350e+04    18731.000000   \n",
       "50%            2.200000  1.990000    2.645630e+05    25330.000000   \n",
       "75%            2.250000  3.990000    6.157260e+05    94665.500000   \n",
       "max            2.800000  7.490000    3.214765e+06   312995.000000   \n",
       "\n",
       "       3 star ratings  2 star ratings  1 star ratings  \n",
       "count        7.000000        7.000000        7.000000  \n",
       "mean     33632.571429    15690.857143    54289.285714  \n",
       "std      49027.945799    25051.010109    93948.601940  \n",
       "min       3123.000000     1117.000000     2315.000000  \n",
       "25%       5115.000000     2371.000000     4294.500000  \n",
       "50%      10184.000000     4387.000000    13572.000000  \n",
       "75%      36604.500000    14464.500000    46711.500000  \n",
       "max     138682.000000    70661.000000   262126.000000  "
      ]
     },
     "execution_count": 9,
     "metadata": {},
     "output_type": "execute_result"
    }
   ],
   "source": [
    "paid_games = raw_data[raw_data['paid'] == True]\n",
    "paid_games.describe()"
   ]
  },
  {
   "cell_type": "code",
   "execution_count": 10,
   "metadata": {
    "papermill": {
     "duration": 0.046667,
     "end_time": "2021-04-28T02:36:27.760025",
     "exception": false,
     "start_time": "2021-04-28T02:36:27.713358",
     "status": "completed"
    },
    "tags": []
   },
   "outputs": [
    {
     "data": {
      "text/plain": [
       "rank                    62.00\n",
       "total ratings       317546.00\n",
       "average rating           4.58\n",
       "growth (30 days)         0.90\n",
       "growth (60 days)         2.20\n",
       "price                    1.99\n",
       "5 star ratings      264563.00\n",
       "4 star ratings       25330.00\n",
       "3 star ratings       10184.00\n",
       "2 star ratings        4387.00\n",
       "1 star ratings       13572.00\n",
       "paid                     1.00\n",
       "dtype: float64"
      ]
     },
     "execution_count": 10,
     "metadata": {},
     "output_type": "execute_result"
    }
   ],
   "source": [
    "paid_games.median()"
   ]
  },
  {
   "cell_type": "code",
   "execution_count": 11,
   "metadata": {
    "papermill": {
     "duration": 0.245406,
     "end_time": "2021-04-28T02:36:28.040742",
     "exception": false,
     "start_time": "2021-04-28T02:36:27.795336",
     "status": "completed"
    },
    "tags": []
   },
   "outputs": [
    {
     "data": {
      "text/plain": [
       "<matplotlib.legend.Legend at 0x7f2c9a2db0a0>"
      ]
     },
     "execution_count": 11,
     "metadata": {},
     "output_type": "execute_result"
    },
    {
     "data": {
      "image/png": "[encoded data removed]",
      "text/plain": [
       "<Figure size 720x360 with 1 Axes>"
      ]
     },
     "metadata": {},
     "output_type": "display_data"
    }
   ],
   "source": [
    "f, ax = plt.subplots(figsize = (10, 5))\n",
    "\n",
    "sns.countplot(x = 'price',\n",
    "              data = paid_games,\n",
    "              palette = 'cool_r')\n",
    "\n",
    "ax.set_title('Median Game Price',\n",
    "             fontsize = 25,\n",
    "             y = 1.1)\n",
    "\n",
    "ax.set(ylabel = '',\n",
    "       xlabel = 'Price')\n",
    "\n",
    "ax.axhline(paid_games['price'].mean(),\n",
    "          color = 'r',\n",
    "          linewidth = 3,\n",
    "          label = 'Mean Price = $3.20')\n",
    "\n",
    "plt.legend()"
   ]
  },
  {
   "cell_type": "markdown",
   "metadata": {
    "papermill": {
     "duration": 0.035666,
     "end_time": "2021-04-28T02:36:28.111743",
     "exception": false,
     "start_time": "2021-04-28T02:36:28.076077",
     "status": "completed"
    },
    "tags": []
   },
   "source": [
    "We only have 7 values to analyse, so it's easy to see it through a pandas DataFrame, but a graph is more visually pleasing for this.\n",
    "\n",
    "By analysing the price, we see that the __average game price is &#0036;3.20__ and that most games on this list are priced at &#0036;1.99 (we can see that from the median)."
   ]
  },
  {
   "cell_type": "markdown",
   "metadata": {
    "papermill": {
     "duration": 0.035193,
     "end_time": "2021-04-28T02:36:28.182232",
     "exception": false,
     "start_time": "2021-04-28T02:36:28.147039",
     "status": "completed"
    },
    "tags": []
   },
   "source": [
    "# Category Analysis"
   ]
  },
  {
   "cell_type": "code",
   "execution_count": 12,
   "metadata": {
    "papermill": {
     "duration": 0.045457,
     "end_time": "2021-04-28T02:36:28.263121",
     "exception": false,
     "start_time": "2021-04-28T02:36:28.217664",
     "status": "completed"
    },
    "tags": []
   },
   "outputs": [
    {
     "data": {
      "text/plain": [
       "array(['GAME ACTION', 'GAME ADVENTURE', 'GAME ARCADE', 'GAME BOARD',\n",
       "       'GAME CARD', 'GAME CASINO', 'GAME CASUAL', 'GAME EDUCATIONAL',\n",
       "       'GAME MUSIC', 'GAME PUZZLE', 'GAME RACING', 'GAME ROLE PLAYING',\n",
       "       'GAME SIMULATION', 'GAME SPORTS', 'GAME STRATEGY', 'GAME TRIVIA',\n",
       "       'GAME WORD'], dtype=object)"
      ]
     },
     "execution_count": 12,
     "metadata": {},
     "output_type": "execute_result"
    }
   ],
   "source": [
    "raw_data['category'].unique()"
   ]
  },
  {
   "cell_type": "markdown",
   "metadata": {
    "papermill": {
     "duration": 0.036381,
     "end_time": "2021-04-28T02:36:28.335982",
     "exception": false,
     "start_time": "2021-04-28T02:36:28.299601",
     "status": "completed"
    },
    "tags": []
   },
   "source": [
    "We have 17 different game categories in this dataset."
   ]
  },
  {
   "cell_type": "code",
   "execution_count": 13,
   "metadata": {
    "papermill": {
     "duration": 0.047438,
     "end_time": "2021-04-28T02:36:28.419535",
     "exception": false,
     "start_time": "2021-04-28T02:36:28.372097",
     "status": "completed"
    },
    "tags": []
   },
   "outputs": [
    {
     "data": {
      "text/plain": [
       "GAME CARD            122\n",
       "GAME WORD            106\n",
       "GAME CASUAL          102\n",
       "GAME TRIVIA          100\n",
       "GAME ARCADE          100\n",
       "GAME MUSIC           100\n",
       "GAME RACING          100\n",
       "GAME SPORTS          100\n",
       "GAME EDUCATIONAL     100\n",
       "GAME STRATEGY        100\n",
       "GAME CASINO          100\n",
       "GAME ACTION          100\n",
       "GAME PUZZLE          100\n",
       "GAME ROLE PLAYING    100\n",
       "GAME SIMULATION      100\n",
       "GAME ADVENTURE       100\n",
       "GAME BOARD           100\n",
       "Name: category, dtype: int64"
      ]
     },
     "execution_count": 13,
     "metadata": {},
     "output_type": "execute_result"
    }
   ],
   "source": [
    "raw_data['category'].value_counts()"
   ]
  },
  {
   "cell_type": "markdown",
   "metadata": {
    "papermill": {
     "duration": 0.036665,
     "end_time": "2021-04-28T02:36:28.494474",
     "exception": false,
     "start_time": "2021-04-28T02:36:28.457809",
     "status": "completed"
    },
    "tags": []
   },
   "source": [
    "Let's create a new pandas.DataFrame using the original dataset and grouping by the game category. Here we drop the \"*rank*\" since it's not relevant for now (if we add it, it would just be the sum from 1 to 100 (depending on the category, some have more games, \"*GAME CARD*\" contains 122 games, for example)). We also drop the \"*paid*\" column since it behaves as a sum of True or False values, also not relevant at the moment."
   ]
  },
  {
   "cell_type": "code",
   "execution_count": 14,
   "metadata": {
    "papermill": {
     "duration": 0.070356,
     "end_time": "2021-04-28T02:36:28.601389",
     "exception": false,
     "start_time": "2021-04-28T02:36:28.531033",
     "status": "completed"
    },
    "tags": []
   },
   "outputs": [
    {
     "data": {
      "text/html": [
       "<div>\n",
       "<style scoped>\n",
       "    .dataframe tbody tr th:only-of-type {\n",
       "        vertical-align: middle;\n",
       "    }\n",
       "\n",
       "    .dataframe tbody tr th {\n",
       "        vertical-align: top;\n",
       "    }\n",
       "\n",
       "    .dataframe thead th {\n",
       "        text-align: right;\n",
       "    }\n",
       "</style>\n",
       "<table border=\"1\" class=\"dataframe\">\n",
       "  <thead>\n",
       "    <tr style=\"text-align: right;\">\n",
       "      <th></th>\n",
       "      <th>category</th>\n",
       "      <th>total ratings</th>\n",
       "      <th>average rating</th>\n",
       "      <th>growth (30 days)</th>\n",
       "      <th>growth (60 days)</th>\n",
       "      <th>price</th>\n",
       "      <th>5 star ratings</th>\n",
       "      <th>4 star ratings</th>\n",
       "      <th>3 star ratings</th>\n",
       "      <th>2 star ratings</th>\n",
       "      <th>1 star ratings</th>\n",
       "    </tr>\n",
       "  </thead>\n",
       "  <tbody>\n",
       "    <tr>\n",
       "      <th>0</th>\n",
       "      <td>GAME ACTION</td>\n",
       "      <td>4.133757e+06</td>\n",
       "      <td>4.246100</td>\n",
       "      <td>1452.539000</td>\n",
       "      <td>2.569000</td>\n",
       "      <td>0.009900</td>\n",
       "      <td>2.974529e+06</td>\n",
       "      <td>359160.520000</td>\n",
       "      <td>198417.800000</td>\n",
       "      <td>109798.300000</td>\n",
       "      <td>491848.980000</td>\n",
       "    </tr>\n",
       "    <tr>\n",
       "      <th>1</th>\n",
       "      <td>GAME ADVENTURE</td>\n",
       "      <td>9.197175e+05</td>\n",
       "      <td>4.264200</td>\n",
       "      <td>30.868000</td>\n",
       "      <td>4.305000</td>\n",
       "      <td>0.049900</td>\n",
       "      <td>6.484247e+05</td>\n",
       "      <td>103462.420000</td>\n",
       "      <td>51665.380000</td>\n",
       "      <td>24650.120000</td>\n",
       "      <td>91512.380000</td>\n",
       "    </tr>\n",
       "    <tr>\n",
       "      <th>2</th>\n",
       "      <td>GAME ARCADE</td>\n",
       "      <td>1.851670e+06</td>\n",
       "      <td>4.294900</td>\n",
       "      <td>23.242000</td>\n",
       "      <td>3.091000</td>\n",
       "      <td>0.094800</td>\n",
       "      <td>1.337318e+06</td>\n",
       "      <td>194447.470000</td>\n",
       "      <td>104659.430000</td>\n",
       "      <td>49336.250000</td>\n",
       "      <td>165906.750000</td>\n",
       "    </tr>\n",
       "    <tr>\n",
       "      <th>3</th>\n",
       "      <td>GAME BOARD</td>\n",
       "      <td>4.708535e+05</td>\n",
       "      <td>4.347100</td>\n",
       "      <td>157.328000</td>\n",
       "      <td>4.501000</td>\n",
       "      <td>0.000000</td>\n",
       "      <td>3.385803e+05</td>\n",
       "      <td>51618.750000</td>\n",
       "      <td>23180.920000</td>\n",
       "      <td>10893.000000</td>\n",
       "      <td>46578.030000</td>\n",
       "    </tr>\n",
       "    <tr>\n",
       "      <th>4</th>\n",
       "      <td>GAME CARD</td>\n",
       "      <td>3.217771e+05</td>\n",
       "      <td>4.421066</td>\n",
       "      <td>2.028689</td>\n",
       "      <td>2.863934</td>\n",
       "      <td>0.024508</td>\n",
       "      <td>2.290758e+05</td>\n",
       "      <td>45030.131148</td>\n",
       "      <td>16209.901639</td>\n",
       "      <td>6788.516393</td>\n",
       "      <td>24670.319672</td>\n",
       "    </tr>\n",
       "    <tr>\n",
       "      <th>5</th>\n",
       "      <td>GAME CASINO</td>\n",
       "      <td>3.711927e+05</td>\n",
       "      <td>4.437800</td>\n",
       "      <td>2.226000</td>\n",
       "      <td>3.352000</td>\n",
       "      <td>0.000000</td>\n",
       "      <td>2.748301e+05</td>\n",
       "      <td>41352.810000</td>\n",
       "      <td>18641.410000</td>\n",
       "      <td>7763.390000</td>\n",
       "      <td>28602.500000</td>\n",
       "    </tr>\n",
       "    <tr>\n",
       "      <th>6</th>\n",
       "      <td>GAME CASUAL</td>\n",
       "      <td>2.496518e+06</td>\n",
       "      <td>4.335196</td>\n",
       "      <td>19.771569</td>\n",
       "      <td>2.099020</td>\n",
       "      <td>0.000000</td>\n",
       "      <td>1.812148e+06</td>\n",
       "      <td>287281.205882</td>\n",
       "      <td>134767.215686</td>\n",
       "      <td>59794.049020</td>\n",
       "      <td>202524.960784</td>\n",
       "    </tr>\n",
       "    <tr>\n",
       "      <th>7</th>\n",
       "      <td>GAME EDUCATIONAL</td>\n",
       "      <td>1.424358e+05</td>\n",
       "      <td>4.253600</td>\n",
       "      <td>99.569000</td>\n",
       "      <td>13.636000</td>\n",
       "      <td>0.000000</td>\n",
       "      <td>1.010035e+05</td>\n",
       "      <td>13420.860000</td>\n",
       "      <td>7867.360000</td>\n",
       "      <td>4722.060000</td>\n",
       "      <td>15419.620000</td>\n",
       "    </tr>\n",
       "    <tr>\n",
       "      <th>8</th>\n",
       "      <td>GAME MUSIC</td>\n",
       "      <td>2.245122e+05</td>\n",
       "      <td>4.180300</td>\n",
       "      <td>2.477000</td>\n",
       "      <td>7.006000</td>\n",
       "      <td>0.019900</td>\n",
       "      <td>1.547905e+05</td>\n",
       "      <td>23005.390000</td>\n",
       "      <td>13782.860000</td>\n",
       "      <td>7316.530000</td>\n",
       "      <td>25614.320000</td>\n",
       "    </tr>\n",
       "    <tr>\n",
       "      <th>9</th>\n",
       "      <td>GAME PUZZLE</td>\n",
       "      <td>9.839270e+05</td>\n",
       "      <td>4.394200</td>\n",
       "      <td>2.232000</td>\n",
       "      <td>2.153000</td>\n",
       "      <td>0.000000</td>\n",
       "      <td>7.082231e+05</td>\n",
       "      <td>128189.110000</td>\n",
       "      <td>58375.640000</td>\n",
       "      <td>23546.900000</td>\n",
       "      <td>65589.710000</td>\n",
       "    </tr>\n",
       "    <tr>\n",
       "      <th>10</th>\n",
       "      <td>GAME RACING</td>\n",
       "      <td>1.363520e+06</td>\n",
       "      <td>4.312000</td>\n",
       "      <td>58.092000</td>\n",
       "      <td>1.961000</td>\n",
       "      <td>0.000000</td>\n",
       "      <td>9.806634e+05</td>\n",
       "      <td>140230.350000</td>\n",
       "      <td>75153.780000</td>\n",
       "      <td>37099.330000</td>\n",
       "      <td>130370.820000</td>\n",
       "    </tr>\n",
       "    <tr>\n",
       "      <th>11</th>\n",
       "      <td>GAME ROLE PLAYING</td>\n",
       "      <td>7.446672e+05</td>\n",
       "      <td>4.276000</td>\n",
       "      <td>1.186000</td>\n",
       "      <td>2.841000</td>\n",
       "      <td>0.000000</td>\n",
       "      <td>5.187436e+05</td>\n",
       "      <td>92055.580000</td>\n",
       "      <td>41828.860000</td>\n",
       "      <td>19366.450000</td>\n",
       "      <td>72670.210000</td>\n",
       "    </tr>\n",
       "    <tr>\n",
       "      <th>12</th>\n",
       "      <td>GAME SIMULATION</td>\n",
       "      <td>1.070020e+06</td>\n",
       "      <td>4.318200</td>\n",
       "      <td>6.954000</td>\n",
       "      <td>3.410000</td>\n",
       "      <td>0.000000</td>\n",
       "      <td>7.545103e+05</td>\n",
       "      <td>134304.780000</td>\n",
       "      <td>64512.840000</td>\n",
       "      <td>28812.820000</td>\n",
       "      <td>87877.160000</td>\n",
       "    </tr>\n",
       "    <tr>\n",
       "      <th>13</th>\n",
       "      <td>GAME SPORTS</td>\n",
       "      <td>1.257016e+06</td>\n",
       "      <td>4.261100</td>\n",
       "      <td>1.306000</td>\n",
       "      <td>3.187000</td>\n",
       "      <td>0.000000</td>\n",
       "      <td>8.759785e+05</td>\n",
       "      <td>154819.270000</td>\n",
       "      <td>74887.210000</td>\n",
       "      <td>32894.220000</td>\n",
       "      <td>118434.630000</td>\n",
       "    </tr>\n",
       "    <tr>\n",
       "      <th>14</th>\n",
       "      <td>GAME STRATEGY</td>\n",
       "      <td>1.834717e+06</td>\n",
       "      <td>4.265000</td>\n",
       "      <td>26.820000</td>\n",
       "      <td>2.194000</td>\n",
       "      <td>0.000000</td>\n",
       "      <td>1.315336e+06</td>\n",
       "      <td>210791.460000</td>\n",
       "      <td>96774.640000</td>\n",
       "      <td>41674.690000</td>\n",
       "      <td>170138.290000</td>\n",
       "    </tr>\n",
       "    <tr>\n",
       "      <th>15</th>\n",
       "      <td>GAME TRIVIA</td>\n",
       "      <td>2.986044e+05</td>\n",
       "      <td>4.245700</td>\n",
       "      <td>49.279000</td>\n",
       "      <td>6.443000</td>\n",
       "      <td>0.019900</td>\n",
       "      <td>2.082666e+05</td>\n",
       "      <td>43341.280000</td>\n",
       "      <td>17709.150000</td>\n",
       "      <td>7239.560000</td>\n",
       "      <td>22045.230000</td>\n",
       "    </tr>\n",
       "    <tr>\n",
       "      <th>16</th>\n",
       "      <td>GAME WORD</td>\n",
       "      <td>4.196336e+05</td>\n",
       "      <td>4.443585</td>\n",
       "      <td>1325.504717</td>\n",
       "      <td>2.249057</td>\n",
       "      <td>0.000000</td>\n",
       "      <td>3.018647e+05</td>\n",
       "      <td>62569.226415</td>\n",
       "      <td>24072.264151</td>\n",
       "      <td>8835.141509</td>\n",
       "      <td>22289.783019</td>\n",
       "    </tr>\n",
       "  </tbody>\n",
       "</table>\n",
       "</div>"
      ],
      "text/plain": [
       "             category  total ratings  average rating  growth (30 days)  \\\n",
       "0         GAME ACTION   4.133757e+06        4.246100       1452.539000   \n",
       "1      GAME ADVENTURE   9.197175e+05        4.264200         30.868000   \n",
       "2         GAME ARCADE   1.851670e+06        4.294900         23.242000   \n",
       "3          GAME BOARD   4.708535e+05        4.347100        157.328000   \n",
       "4           GAME CARD   3.217771e+05        4.421066          2.028689   \n",
       "5         GAME CASINO   3.711927e+05        4.437800          2.226000   \n",
       "6         GAME CASUAL   2.496518e+06        4.335196         19.771569   \n",
       "7    GAME EDUCATIONAL   1.424358e+05        4.253600         99.569000   \n",
       "8          GAME MUSIC   2.245122e+05        4.180300          2.477000   \n",
       "9         GAME PUZZLE   9.839270e+05        4.394200          2.232000   \n",
       "10        GAME RACING   1.363520e+06        4.312000         58.092000   \n",
       "11  GAME ROLE PLAYING   7.446672e+05        4.276000          1.186000   \n",
       "12    GAME SIMULATION   1.070020e+06        4.318200          6.954000   \n",
       "13        GAME SPORTS   1.257016e+06        4.261100          1.306000   \n",
       "14      GAME STRATEGY   1.834717e+06        4.265000         26.820000   \n",
       "15        GAME TRIVIA   2.986044e+05        4.245700         49.279000   \n",
       "16          GAME WORD   4.196336e+05        4.443585       1325.504717   \n",
       "\n",
       "    growth (60 days)     price  5 star ratings  4 star ratings  \\\n",
       "0           2.569000  0.009900    2.974529e+06   359160.520000   \n",
       "1           4.305000  0.049900    6.484247e+05   103462.420000   \n",
       "2           3.091000  0.094800    1.337318e+06   194447.470000   \n",
       "3           4.501000  0.000000    3.385803e+05    51618.750000   \n",
       "4           2.863934  0.024508    2.290758e+05    45030.131148   \n",
       "5           3.352000  0.000000    2.748301e+05    41352.810000   \n",
       "6           2.099020  0.000000    1.812148e+06   287281.205882   \n",
       "7          13.636000  0.000000    1.010035e+05    13420.860000   \n",
       "8           7.006000  0.019900    1.547905e+05    23005.390000   \n",
       "9           2.153000  0.000000    7.082231e+05   128189.110000   \n",
       "10          1.961000  0.000000    9.806634e+05   140230.350000   \n",
       "11          2.841000  0.000000    5.187436e+05    92055.580000   \n",
       "12          3.410000  0.000000    7.545103e+05   134304.780000   \n",
       "13          3.187000  0.000000    8.759785e+05   154819.270000   \n",
       "14          2.194000  0.000000    1.315336e+06   210791.460000   \n",
       "15          6.443000  0.019900    2.082666e+05    43341.280000   \n",
       "16          2.249057  0.000000    3.018647e+05    62569.226415   \n",
       "\n",
       "    3 star ratings  2 star ratings  1 star ratings  \n",
       "0    198417.800000   109798.300000   491848.980000  \n",
       "1     51665.380000    24650.120000    91512.380000  \n",
       "2    104659.430000    49336.250000   165906.750000  \n",
       "3     23180.920000    10893.000000    46578.030000  \n",
       "4     16209.901639     6788.516393    24670.319672  \n",
       "5     18641.410000     7763.390000    28602.500000  \n",
       "6    134767.215686    59794.049020   202524.960784  \n",
       "7      7867.360000     4722.060000    15419.620000  \n",
       "8     13782.860000     7316.530000    25614.320000  \n",
       "9     58375.640000    23546.900000    65589.710000  \n",
       "10    75153.780000    37099.330000   130370.820000  \n",
       "11    41828.860000    19366.450000    72670.210000  \n",
       "12    64512.840000    28812.820000    87877.160000  \n",
       "13    74887.210000    32894.220000   118434.630000  \n",
       "14    96774.640000    41674.690000   170138.290000  \n",
       "15    17709.150000     7239.560000    22045.230000  \n",
       "16    24072.264151     8835.141509    22289.783019  "
      ]
     },
     "execution_count": 14,
     "metadata": {},
     "output_type": "execute_result"
    }
   ],
   "source": [
    "categories_df = raw_data.groupby(['category'], as_index = False).mean().drop(labels = 'rank', axis = 1).drop(labels = 'paid', axis = 1)\n",
    "categories_df"
   ]
  },
  {
   "cell_type": "markdown",
   "metadata": {
    "papermill": {
     "duration": 0.037296,
     "end_time": "2021-04-28T02:36:28.676027",
     "exception": false,
     "start_time": "2021-04-28T02:36:28.638731",
     "status": "completed"
    },
    "tags": []
   },
   "source": [
    "We can now see how the columns behave in this new dataset:\n",
    "\n",
    "* __total_ratings__: The sum of the total rating of all games in the category.\n",
    "* __average rating__: The average rating of the whole category.\n",
    "* __growth (30 days)__: The sum of the growth (30 days) of all games in the category.\n",
    "* __growth (60 days)__: The sum of the growth (60 days) of all games in the category.\n",
    "* __price__: The sum of the prices of all games in the category.\n",
    "* __5 star ratings__: The sum of the 5 star rating from each game of the category.\n",
    "* __4 star ratings__: The sum of the 4 star rating from each game of the category.\n",
    "* __3 star ratings__: The sum of the 3 star rating from each game of the category.\n",
    "* __2 star ratings__: The sum of the 2 star rating from each game of the category.\n",
    "* __1 star ratings__: The sum of the 1 star rating from each game of the category."
   ]
  },
  {
   "cell_type": "markdown",
   "metadata": {
    "papermill": {
     "duration": 0.036852,
     "end_time": "2021-04-28T02:36:28.750207",
     "exception": false,
     "start_time": "2021-04-28T02:36:28.713355",
     "status": "completed"
    },
    "tags": []
   },
   "source": [
    "Since the number of installs is not a numerical value, but instead it is a range, we'll use the number of ratings as a metric of game popularity (here we are assuming that the higher the number of installs is, the higher the number of ratings."
   ]
  },
  {
   "cell_type": "code",
   "execution_count": 15,
   "metadata": {
    "papermill": {
     "duration": 0.312989,
     "end_time": "2021-04-28T02:36:29.100487",
     "exception": false,
     "start_time": "2021-04-28T02:36:28.787498",
     "status": "completed"
    },
    "tags": []
   },
   "outputs": [
    {
     "data": {
      "text/plain": [
       "[(4.0, 4.5), Text(0, 0.5, ''), Text(0.5, 0, 'Average Rating')]"
      ]
     },
     "execution_count": 15,
     "metadata": {},
     "output_type": "execute_result"
    },
    {
     "data": {
      "image/png": "[encoded data removed]",
      "text/plain": [
       "<Figure size 720x360 with 1 Axes>"
      ]
     },
     "metadata": {},
     "output_type": "display_data"
    }
   ],
   "source": [
    "f, ax = plt.subplots(figsize = (10, 5))\n",
    "\n",
    "sns.barplot(x = 'average rating',\n",
    "            y = 'category',\n",
    "            data = categories_df,\n",
    "            palette = 'cool_r',\n",
    "            order = categories_df.sort_values('average rating', ascending = False).category)\n",
    "\n",
    "ax.set_title('Average Rating per Game Category',\n",
    "             fontsize = 25,\n",
    "             x = 0.4,\n",
    "             y = 1.1)\n",
    "\n",
    "ax.set(xlim = (4, 4.5),\n",
    "       ylabel = '',\n",
    "       xlabel = 'Average Rating')"
   ]
  },
  {
   "cell_type": "code",
   "execution_count": 16,
   "metadata": {
    "papermill": {
     "duration": 0.333272,
     "end_time": "2021-04-28T02:36:29.473571",
     "exception": false,
     "start_time": "2021-04-28T02:36:29.140299",
     "status": "completed"
    },
    "tags": []
   },
   "outputs": [
    {
     "data": {
      "text/plain": [
       "Text(0, 0.5, '')"
      ]
     },
     "execution_count": 16,
     "metadata": {},
     "output_type": "execute_result"
    },
    {
     "data": {
      "image/png": "[encoded data removed]",
      "text/plain": [
       "<Figure size 720x360 with 1 Axes>"
      ]
     },
     "metadata": {},
     "output_type": "display_data"
    }
   ],
   "source": [
    "f, ax = plt.subplots(figsize = (10, 5))\n",
    "\n",
    "sns.barplot(x = 'total ratings',\n",
    "            y = 'category',\n",
    "            data = categories_df,\n",
    "            palette = 'cool_r',\n",
    "            order = categories_df.sort_values('total ratings', ascending = False).category)\n",
    "\n",
    "ax.set_title('Total Number of Ratings per Game Category',\n",
    "             fontsize = 25,\n",
    "             y = 1.1)\n",
    "\n",
    "ax.set_xlabel('Total Number of Ratings (x10⁶)',fontsize = 18)\n",
    "ax.set_ylabel('')"
   ]
  },
  {
   "cell_type": "markdown",
   "metadata": {
    "papermill": {
     "duration": 0.041688,
     "end_time": "2021-04-28T02:36:29.557586",
     "exception": false,
     "start_time": "2021-04-28T02:36:29.515898",
     "status": "completed"
    },
    "tags": []
   },
   "source": [
    "It is easy to see that __Action__ games dominate the market by Total Number of Ratings."
   ]
  },
  {
   "cell_type": "markdown",
   "metadata": {
    "papermill": {
     "duration": 0.041854,
     "end_time": "2021-04-28T02:36:29.640884",
     "exception": false,
     "start_time": "2021-04-28T02:36:29.599030",
     "status": "completed"
    },
    "tags": []
   },
   "source": [
    "# Growth Analysis"
   ]
  },
  {
   "cell_type": "code",
   "execution_count": 17,
   "metadata": {
    "papermill": {
     "duration": 0.059727,
     "end_time": "2021-04-28T02:36:29.742166",
     "exception": false,
     "start_time": "2021-04-28T02:36:29.682439",
     "status": "completed"
    },
    "tags": []
   },
   "outputs": [
    {
     "data": {
      "text/html": [
       "<div>\n",
       "<style scoped>\n",
       "    .dataframe tbody tr th:only-of-type {\n",
       "        vertical-align: middle;\n",
       "    }\n",
       "\n",
       "    .dataframe tbody tr th {\n",
       "        vertical-align: top;\n",
       "    }\n",
       "\n",
       "    .dataframe thead th {\n",
       "        text-align: right;\n",
       "    }\n",
       "</style>\n",
       "<table border=\"1\" class=\"dataframe\">\n",
       "  <thead>\n",
       "    <tr style=\"text-align: right;\">\n",
       "      <th></th>\n",
       "      <th>category</th>\n",
       "      <th>growth (30 days)</th>\n",
       "    </tr>\n",
       "  </thead>\n",
       "  <tbody>\n",
       "    <tr>\n",
       "      <th>0</th>\n",
       "      <td>GAME ACTION</td>\n",
       "      <td>1452.539000</td>\n",
       "    </tr>\n",
       "    <tr>\n",
       "      <th>1</th>\n",
       "      <td>GAME ADVENTURE</td>\n",
       "      <td>30.868000</td>\n",
       "    </tr>\n",
       "    <tr>\n",
       "      <th>2</th>\n",
       "      <td>GAME ARCADE</td>\n",
       "      <td>23.242000</td>\n",
       "    </tr>\n",
       "    <tr>\n",
       "      <th>3</th>\n",
       "      <td>GAME BOARD</td>\n",
       "      <td>157.328000</td>\n",
       "    </tr>\n",
       "    <tr>\n",
       "      <th>4</th>\n",
       "      <td>GAME CARD</td>\n",
       "      <td>2.028689</td>\n",
       "    </tr>\n",
       "    <tr>\n",
       "      <th>5</th>\n",
       "      <td>GAME CASINO</td>\n",
       "      <td>2.226000</td>\n",
       "    </tr>\n",
       "    <tr>\n",
       "      <th>6</th>\n",
       "      <td>GAME CASUAL</td>\n",
       "      <td>19.771569</td>\n",
       "    </tr>\n",
       "    <tr>\n",
       "      <th>7</th>\n",
       "      <td>GAME EDUCATIONAL</td>\n",
       "      <td>99.569000</td>\n",
       "    </tr>\n",
       "    <tr>\n",
       "      <th>8</th>\n",
       "      <td>GAME MUSIC</td>\n",
       "      <td>2.477000</td>\n",
       "    </tr>\n",
       "    <tr>\n",
       "      <th>9</th>\n",
       "      <td>GAME PUZZLE</td>\n",
       "      <td>2.232000</td>\n",
       "    </tr>\n",
       "    <tr>\n",
       "      <th>10</th>\n",
       "      <td>GAME RACING</td>\n",
       "      <td>58.092000</td>\n",
       "    </tr>\n",
       "    <tr>\n",
       "      <th>11</th>\n",
       "      <td>GAME ROLE PLAYING</td>\n",
       "      <td>1.186000</td>\n",
       "    </tr>\n",
       "    <tr>\n",
       "      <th>12</th>\n",
       "      <td>GAME SIMULATION</td>\n",
       "      <td>6.954000</td>\n",
       "    </tr>\n",
       "    <tr>\n",
       "      <th>13</th>\n",
       "      <td>GAME SPORTS</td>\n",
       "      <td>1.306000</td>\n",
       "    </tr>\n",
       "    <tr>\n",
       "      <th>14</th>\n",
       "      <td>GAME STRATEGY</td>\n",
       "      <td>26.820000</td>\n",
       "    </tr>\n",
       "    <tr>\n",
       "      <th>15</th>\n",
       "      <td>GAME TRIVIA</td>\n",
       "      <td>49.279000</td>\n",
       "    </tr>\n",
       "    <tr>\n",
       "      <th>16</th>\n",
       "      <td>GAME WORD</td>\n",
       "      <td>1325.504717</td>\n",
       "    </tr>\n",
       "  </tbody>\n",
       "</table>\n",
       "</div>"
      ],
      "text/plain": [
       "             category  growth (30 days)\n",
       "0         GAME ACTION       1452.539000\n",
       "1      GAME ADVENTURE         30.868000\n",
       "2         GAME ARCADE         23.242000\n",
       "3          GAME BOARD        157.328000\n",
       "4           GAME CARD          2.028689\n",
       "5         GAME CASINO          2.226000\n",
       "6         GAME CASUAL         19.771569\n",
       "7    GAME EDUCATIONAL         99.569000\n",
       "8          GAME MUSIC          2.477000\n",
       "9         GAME PUZZLE          2.232000\n",
       "10        GAME RACING         58.092000\n",
       "11  GAME ROLE PLAYING          1.186000\n",
       "12    GAME SIMULATION          6.954000\n",
       "13        GAME SPORTS          1.306000\n",
       "14      GAME STRATEGY         26.820000\n",
       "15        GAME TRIVIA         49.279000\n",
       "16          GAME WORD       1325.504717"
      ]
     },
     "execution_count": 17,
     "metadata": {},
     "output_type": "execute_result"
    }
   ],
   "source": [
    "growth_30_days = raw_data.groupby('category', as_index=False)['growth (30 days)'].mean()\n",
    "growth_30_days"
   ]
  },
  {
   "cell_type": "code",
   "execution_count": 18,
   "metadata": {
    "papermill": {
     "duration": 0.061614,
     "end_time": "2021-04-28T02:36:29.846543",
     "exception": false,
     "start_time": "2021-04-28T02:36:29.784929",
     "status": "completed"
    },
    "tags": []
   },
   "outputs": [
    {
     "data": {
      "text/html": [
       "<div>\n",
       "<style scoped>\n",
       "    .dataframe tbody tr th:only-of-type {\n",
       "        vertical-align: middle;\n",
       "    }\n",
       "\n",
       "    .dataframe tbody tr th {\n",
       "        vertical-align: top;\n",
       "    }\n",
       "\n",
       "    .dataframe thead th {\n",
       "        text-align: right;\n",
       "    }\n",
       "</style>\n",
       "<table border=\"1\" class=\"dataframe\">\n",
       "  <thead>\n",
       "    <tr style=\"text-align: right;\">\n",
       "      <th></th>\n",
       "      <th>category</th>\n",
       "      <th>growth (60 days)</th>\n",
       "    </tr>\n",
       "  </thead>\n",
       "  <tbody>\n",
       "    <tr>\n",
       "      <th>0</th>\n",
       "      <td>GAME ACTION</td>\n",
       "      <td>2.569000</td>\n",
       "    </tr>\n",
       "    <tr>\n",
       "      <th>1</th>\n",
       "      <td>GAME ADVENTURE</td>\n",
       "      <td>4.305000</td>\n",
       "    </tr>\n",
       "    <tr>\n",
       "      <th>2</th>\n",
       "      <td>GAME ARCADE</td>\n",
       "      <td>3.091000</td>\n",
       "    </tr>\n",
       "    <tr>\n",
       "      <th>3</th>\n",
       "      <td>GAME BOARD</td>\n",
       "      <td>4.501000</td>\n",
       "    </tr>\n",
       "    <tr>\n",
       "      <th>4</th>\n",
       "      <td>GAME CARD</td>\n",
       "      <td>2.863934</td>\n",
       "    </tr>\n",
       "    <tr>\n",
       "      <th>5</th>\n",
       "      <td>GAME CASINO</td>\n",
       "      <td>3.352000</td>\n",
       "    </tr>\n",
       "    <tr>\n",
       "      <th>6</th>\n",
       "      <td>GAME CASUAL</td>\n",
       "      <td>2.099020</td>\n",
       "    </tr>\n",
       "    <tr>\n",
       "      <th>7</th>\n",
       "      <td>GAME EDUCATIONAL</td>\n",
       "      <td>13.636000</td>\n",
       "    </tr>\n",
       "    <tr>\n",
       "      <th>8</th>\n",
       "      <td>GAME MUSIC</td>\n",
       "      <td>7.006000</td>\n",
       "    </tr>\n",
       "    <tr>\n",
       "      <th>9</th>\n",
       "      <td>GAME PUZZLE</td>\n",
       "      <td>2.153000</td>\n",
       "    </tr>\n",
       "    <tr>\n",
       "      <th>10</th>\n",
       "      <td>GAME RACING</td>\n",
       "      <td>1.961000</td>\n",
       "    </tr>\n",
       "    <tr>\n",
       "      <th>11</th>\n",
       "      <td>GAME ROLE PLAYING</td>\n",
       "      <td>2.841000</td>\n",
       "    </tr>\n",
       "    <tr>\n",
       "      <th>12</th>\n",
       "      <td>GAME SIMULATION</td>\n",
       "      <td>3.410000</td>\n",
       "    </tr>\n",
       "    <tr>\n",
       "      <th>13</th>\n",
       "      <td>GAME SPORTS</td>\n",
       "      <td>3.187000</td>\n",
       "    </tr>\n",
       "    <tr>\n",
       "      <th>14</th>\n",
       "      <td>GAME STRATEGY</td>\n",
       "      <td>2.194000</td>\n",
       "    </tr>\n",
       "    <tr>\n",
       "      <th>15</th>\n",
       "      <td>GAME TRIVIA</td>\n",
       "      <td>6.443000</td>\n",
       "    </tr>\n",
       "    <tr>\n",
       "      <th>16</th>\n",
       "      <td>GAME WORD</td>\n",
       "      <td>2.249057</td>\n",
       "    </tr>\n",
       "  </tbody>\n",
       "</table>\n",
       "</div>"
      ],
      "text/plain": [
       "             category  growth (60 days)\n",
       "0         GAME ACTION          2.569000\n",
       "1      GAME ADVENTURE          4.305000\n",
       "2         GAME ARCADE          3.091000\n",
       "3          GAME BOARD          4.501000\n",
       "4           GAME CARD          2.863934\n",
       "5         GAME CASINO          3.352000\n",
       "6         GAME CASUAL          2.099020\n",
       "7    GAME EDUCATIONAL         13.636000\n",
       "8          GAME MUSIC          7.006000\n",
       "9         GAME PUZZLE          2.153000\n",
       "10        GAME RACING          1.961000\n",
       "11  GAME ROLE PLAYING          2.841000\n",
       "12    GAME SIMULATION          3.410000\n",
       "13        GAME SPORTS          3.187000\n",
       "14      GAME STRATEGY          2.194000\n",
       "15        GAME TRIVIA          6.443000\n",
       "16          GAME WORD          2.249057"
      ]
     },
     "execution_count": 18,
     "metadata": {},
     "output_type": "execute_result"
    }
   ],
   "source": [
    "growth_60_days = raw_data.groupby('category', as_index=False)['growth (60 days)'].mean()\n",
    "growth_60_days"
   ]
  },
  {
   "cell_type": "code",
   "execution_count": 19,
   "metadata": {
    "papermill": {
     "duration": 0.701968,
     "end_time": "2021-04-28T02:36:30.592439",
     "exception": false,
     "start_time": "2021-04-28T02:36:29.890471",
     "status": "completed"
    },
    "tags": []
   },
   "outputs": [
    {
     "data": {
      "text/plain": [
       "[Text(0, 0.5, ''), Text(0.5, 0, 'Average 60 Day Growth')]"
      ]
     },
     "execution_count": 19,
     "metadata": {},
     "output_type": "execute_result"
    },
    {
     "data": {
      "image/png": "[encoded data removed]",
      "text/plain": [
       "<Figure size 720x360 with 1 Axes>"
      ]
     },
     "metadata": {},
     "output_type": "display_data"
    },
    {
     "data": {
      "image/png": "[encoded data removed]",
      "text/plain": [
       "<Figure size 720x360 with 1 Axes>"
      ]
     },
     "metadata": {},
     "output_type": "display_data"
    }
   ],
   "source": [
    "f, ax = plt.subplots(figsize = (10, 5))\n",
    "\n",
    "sns.barplot(x = 'growth (30 days)',\n",
    "            y = 'category',\n",
    "            data = growth_30_days,\n",
    "            palette = 'cool_r',\n",
    "            order = growth_30_days.sort_values('growth (30 days)', ascending = False).category)\n",
    "\n",
    "ax.set_title('Average 30 Day Growth per Game Category',\n",
    "             fontsize = 20,\n",
    "             x = 0.4,\n",
    "             y = 1.1)\n",
    "\n",
    "ax.set(ylabel = '',\n",
    "       xlabel = 'Average 30 Day Growth')\n",
    "\n",
    "\n",
    "\n",
    "f, ax = plt.subplots(figsize = (10, 5))\n",
    "\n",
    "sns.barplot(x = 'growth (60 days)',\n",
    "            y = 'category',\n",
    "            data = growth_60_days,\n",
    "            palette = 'cool_r',\n",
    "            order = growth_60_days.sort_values('growth (60 days)', ascending = False).category)\n",
    "\n",
    "ax.set_title('Average 60 Day Growth per Game Category',\n",
    "             fontsize = 20,\n",
    "             x = 0.4,\n",
    "             y = 1.1)\n",
    "\n",
    "ax.set(ylabel = '',\n",
    "       xlabel = 'Average 60 Day Growth')"
   ]
  },
  {
   "cell_type": "markdown",
   "metadata": {
    "papermill": {
     "duration": 0.048396,
     "end_time": "2021-04-28T02:36:30.688584",
     "exception": false,
     "start_time": "2021-04-28T02:36:30.640188",
     "status": "completed"
    },
    "tags": []
   },
   "source": [
    "Considering the last 30 days (from the date this dataset was gathered), __Action__ and __Word__ games have the highest growth among the categories listed. Analysing the last 60 days (again, from the time this dataset was gathered), we see that __Educational__ games had the highest growth."
   ]
  },
  {
   "cell_type": "code",
   "execution_count": 20,
   "metadata": {
    "papermill": {
     "duration": 0.06197,
     "end_time": "2021-04-28T02:36:30.797813",
     "exception": false,
     "start_time": "2021-04-28T02:36:30.735843",
     "status": "completed"
    },
    "tags": []
   },
   "outputs": [
    {
     "data": {
      "text/plain": [
       "[894844.5714285715, 1102019.8224027858]"
      ]
     },
     "execution_count": 20,
     "metadata": {},
     "output_type": "execute_result"
    }
   ],
   "source": [
    "a = [] # empty list\n",
    "\n",
    "# average number of ratings of paid games\n",
    "\n",
    "a.append( raw_data[raw_data['paid'] == True]['total ratings'].mean() )\n",
    "\n",
    "# average number of ratings of free games\n",
    "\n",
    "a.append( raw_data[raw_data['paid'] == False]['total ratings'].mean() )\n",
    "\n",
    "a"
   ]
  },
  {
   "cell_type": "code",
   "execution_count": 21,
   "metadata": {
    "papermill": {
     "duration": 0.191419,
     "end_time": "2021-04-28T02:36:31.037782",
     "exception": false,
     "start_time": "2021-04-28T02:36:30.846363",
     "status": "completed"
    },
    "tags": []
   },
   "outputs": [
    {
     "data": {
      "text/plain": [
       "Text(0, 0.5, 'Average Number of Ratings (x10⁶)')"
      ]
     },
     "execution_count": 21,
     "metadata": {},
     "output_type": "execute_result"
    },
    {
     "data": {
      "image/png": "[encoded data removed]",
      "text/plain": [
       "<Figure size 720x360 with 1 Axes>"
      ]
     },
     "metadata": {},
     "output_type": "display_data"
    }
   ],
   "source": [
    "f, ax = plt.subplots(figsize = (10, 5))\n",
    "\n",
    "sns.barplot(x = ['Paid', 'Free'],\n",
    "            y = a,\n",
    "            palette = 'cool_r')\n",
    "\n",
    "ax.set_title('Average Number of Ratings for Paid and Free games',\n",
    "             fontsize = 20,\n",
    "             y = 1.1)\n",
    "\n",
    "ax.set_xlabel('')\n",
    "ax.set_ylabel('Average Number of Ratings (x10⁶)', fontsize = 17)"
   ]
  },
  {
   "cell_type": "markdown",
   "metadata": {
    "papermill": {
     "duration": 0.049912,
     "end_time": "2021-04-28T02:36:31.137727",
     "exception": false,
     "start_time": "2021-04-28T02:36:31.087815",
     "status": "completed"
    },
    "tags": []
   },
   "source": [
    "So, we see that __Free Games__ have a higher average number of ratings than __Paid Games__."
   ]
  },
  {
   "cell_type": "markdown",
   "metadata": {
    "papermill": {
     "duration": 0.049532,
     "end_time": "2021-04-28T02:36:31.236905",
     "exception": false,
     "start_time": "2021-04-28T02:36:31.187373",
     "status": "completed"
    },
    "tags": []
   },
   "source": [
    "# Answering the Questions"
   ]
  },
  {
   "cell_type": "markdown",
   "metadata": {
    "papermill": {
     "duration": 0.0496,
     "end_time": "2021-04-28T02:36:31.336514",
     "exception": false,
     "start_time": "2021-04-28T02:36:31.286914",
     "status": "completed"
    },
    "tags": []
   },
   "source": [
    "__1. Which types of games are more successful in number of ratings?__\n",
    "\n",
    "Since we didn't use the number of installs in our analysis (because we don't have an exact value for each game, just a range), we can infer the success for each type of game from the total number of ratings for each category. With this in mind, the \"__ACTION__\" category has the highest number of ratings at $4.13 \\times 10^6$ installs, which shows the popularity of action mobile games."
   ]
  },
  {
   "cell_type": "markdown",
   "metadata": {
    "papermill": {
     "duration": 0.048893,
     "end_time": "2021-04-28T02:36:31.437266",
     "exception": false,
     "start_time": "2021-04-28T02:36:31.388373",
     "status": "completed"
    },
    "tags": []
   },
   "source": [
    "__2. Paid or free games? If paid, what is a good price to go for?__\n",
    "\n",
    "We have seen that free games have a higher average number of ratings than paid games, so it could be a better option for a game developer to go for a free game. If the game is paid, a generally good price can be set at $1.99."
   ]
  },
  {
   "cell_type": "markdown",
   "metadata": {
    "papermill": {
     "duration": 0.048609,
     "end_time": "2021-04-28T02:36:31.535717",
     "exception": false,
     "start_time": "2021-04-28T02:36:31.487108",
     "status": "completed"
    },
    "tags": []
   },
   "source": [
    "__3. Which types of games are growing at the moment?__\n",
    "\n",
    "Considering the last 30 days (from the time this dataset was gathered), the categories the are growing more rapidly at the moment are __Action__ and __Word__ games."
   ]
  },
  {
   "cell_type": "markdown",
   "metadata": {
    "papermill": {
     "duration": 0.050583,
     "end_time": "2021-04-28T02:36:31.635900",
     "exception": false,
     "start_time": "2021-04-28T02:36:31.585317",
     "status": "completed"
    },
    "tags": []
   },
   "source": [
    "__4. Which types of games have the highest overall ratings?__\n",
    "\n",
    "Seeing as this is a list with the most popular games, the overall ratings are not too different from each other, but __Word__ games and __Cassino__ games have the highest ratings amongst all categories."
   ]
  },
  {
   "cell_type": "markdown",
   "metadata": {
    "papermill": {
     "duration": 0.051242,
     "end_time": "2021-04-28T02:36:31.737293",
     "exception": false,
     "start_time": "2021-04-28T02:36:31.686051",
     "status": "completed"
    },
    "tags": []
   },
   "source": [
    "In conclusion, __Action__ mobile Android games perform very well at Google Play Store in almost every metric analysed."
   ]
  }
 ],
 "metadata": {
  "kernelspec": {
   "display_name": "Python 3",
   "language": "python",
   "name": "python3"
  },
  "language_info": {
   "codemirror_mode": {
    "name": "ipython",
    "version": 3
   },
   "file_extension": ".py",
   "mimetype": "text/x-python",
   "name": "python",
   "nbconvert_exporter": "python",
   "pygments_lexer": "ipython3",
   "version": "3.8.5"
  },
  "papermill": {
   "default_parameters": {},
   "duration": 16.893647,
   "end_time": "2021-04-28T02:36:33.438193",
   "environment_variables": {},
   "exception": null,
   "input_path": "__notebook__.ipynb",
   "output_path": "__notebook__.ipynb",
   "parameters": {},
   "start_time": "2021-04-28T02:36:16.544546",
   "version": "2.3.3"
  }
 },
 "nbformat": 4,
 "nbformat_minor": 5
}
